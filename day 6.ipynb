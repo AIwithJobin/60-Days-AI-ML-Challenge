{
 "cells": [
  {
   "cell_type": "code",
   "execution_count": null,
   "metadata": {},
   "outputs": [],
   "source": [
    "num=int(input(\"Enter the positive number:\"))\n",
    "sum=0\n",
    "if(num<0):\n",
    "    print(\"Enter a positive number\")\n",
    "else:\n",
    "    while num>0:\n",
    "        digit=num%10\n",
    "        sum=sum+digit**2\n",
    "    if sum==1:\n",
    "        print(\"true\")\n",
    "    else:\n",
    "        num=sum\n",
    "    \n"
   ]
  },
  {
   "cell_type": "code",
   "execution_count": null,
   "metadata": {},
   "outputs": [],
   "source": [
    "\n",
    "# Given a string, find the first non-repeating character in it and return its index. If it doesn't exist, return -1.\n",
    "\n",
    "# Example 1:\n",
    "# Input: 'leetcode'\n",
    "# Output: @\n",
    "\n",
    "# Example 2:\n",
    "# Input: 'loveleetcode'\n",
    "# Output: 2\n",
    "\n",
    "# Example 3:\n",
    "# Input: 'aabb'\n",
    "# Output: -1\n",
    "\n",
    "#Constraint: The given input string consists of only lowercase alphabets.\n",
    "\n",
    "string=input(\"enter the string\")\n",
    "print(string)\n",
    "length=len(string)\n",
    "for i in range(0,length):\n",
    "    flag=True\n",
    "    count=1\n",
    "    for j in (i,length):\n",
    "        if string[i]==string[j]:\n",
    "            flag=False\n",
    "            count+=1\n",
    "    if count==1:\n",
    "        print(i)\n",
    "    else:\n",
    "        print(\"-1\")\n"
   ]
  },
  {
   "cell_type": "code",
   "execution_count": 9,
   "metadata": {},
   "outputs": [
    {
     "name": "stdout",
     "output_type": "stream",
     "text": [
      "The first non-repeating character present in your string is l and is found at index 0\n"
     ]
    }
   ],
   "source": [
    "string_input = input()\n",
    "non_rep_dict, rep_list = {}, []\n",
    "for i in range(len(string_input) ):\n",
    "    if string_input[i] in rep_list:\n",
    "        continue\n",
    "    elif string_input[i] in non_rep_dict:\n",
    "        rep_list.append(i)\n",
    "        del non_rep_dict[string_input[i]]\n",
    "    else:\n",
    "        non_rep_dict[string_input[i]] = i\n",
    "if not non_rep_dict:\n",
    "    print(\"There is no non-repeating character present in your string :- 1.\")\n",
    "else:\n",
    "    list_of_dict = list(non_rep_dict.items( ) )\n",
    "list_of_dict = sorted(list_of_dict, key= lambda x: x[1])\n",
    "print(f\"The first non-repeating character present in your string is {list_of_dict[0][0]} and is found at index {list_of_dict[0][1]}\")"
   ]
  },
  {
   "cell_type": "code",
   "execution_count": 21,
   "metadata": {},
   "outputs": [
    {
     "name": "stdout",
     "output_type": "stream",
     "text": [
      "100\n",
      "1100100\n"
     ]
    }
   ],
   "source": [
    "num=int(input(\"enter the number\"))\n",
    "print(num)\n",
    "binary=[]\n",
    "while num>0:\n",
    "    digit=num%2\n",
    "    binary.append(str(digit))\n",
    "    num=num//2\n",
    "binary.reverse()\n",
    "print(\"\".join(binary))"
   ]
  },
  {
   "cell_type": "code",
   "execution_count": null,
   "metadata": {},
   "outputs": [],
   "source": [
    "#find the largest substring without repeating characters and also the length\n",
    "string=input(\"Enter the string\")\n",
    "largest=\"\"\n",
    "for i in range(0,length(string)):\n",
    "    largest.append(string[i])\n",
    "    if(string.count(largest) == 1 ):\n",
    "        print(largest)\n",
    "        print(len(largest))\n"
   ]
  },
  {
   "cell_type": "code",
   "execution_count": null,
   "metadata": {},
   "outputs": [],
   "source": [
    "input_string = input(\"Enter the string: \")\n",
    "start = 0\n",
    "max_length = 0\n",
    "max_substring = \"\"\n",
    "char_index_map = {}\n",
    "\n",
    "for end in range(len(input_string)):\n",
    "    if input_string[end] in char_index_map:\n",
    "        start = max(start, char_index_map[input_string[end]] + 1)\n",
    "    \n",
    "    char_index_map[input_string[end]] = end\n",
    "    \n",
    "    if end - start + 1 > max_length:\n",
    "        max_length = end - start + 1\n",
    "        max_substring = input_string[start:end+1]\n",
    "\n",
    "print(f\"The longest substring without repeating characters is: '{max_substring}' with length {max_length}\")\n"
   ]
  },
  {
   "cell_type": "code",
   "execution_count": 1,
   "metadata": {},
   "outputs": [
    {
     "name": "stdout",
     "output_type": "stream",
     "text": [
      "the strings are not anagram of each other\n"
     ]
    }
   ],
   "source": [
    "string1=input(\"enter the first string:\")\n",
    "string2=input(\"enter the second string:\")\n",
    "\n",
    "if(len(string1)==len(string2)):\n",
    "    list1=list(string1)\n",
    "    list2=list(string2)\n",
    "    list1.sort(reverse=True)\n",
    "    list2.sort(reverse=True)\n",
    "    if(list1==list2):\n",
    "        print(\"the strings are anagram of each other \")\n",
    "    else:\n",
    "        print(\"the strings  are not anagram ot each other\")\n",
    "else:\n",
    "    print(\"the strings are not anagram of each other\")\n",
    "\n"
   ]
  },
  {
   "cell_type": "code",
   "execution_count": 2,
   "metadata": {},
   "outputs": [
    {
     "name": "stdout",
     "output_type": "stream",
     "text": [
      "The element with maximum occurance is o with 2 of occurance\n"
     ]
    }
   ],
   "source": [
    "#find the maximum occurance of the character and its number \n",
    "\n",
    "input=list(input(\"Enter the numbers:\"))\n",
    "maxcount=0\n",
    "element=\"i\"\n",
    "for i in input:\n",
    "    count=input.count(i)\n",
    "    if(count>=maxcount):\n",
    "        maxcount=count\n",
    "        element=i\n",
    "print(f\"The element with maximum occurance is {element} with {maxcount} of occurance\")\n"
   ]
  },
  {
   "cell_type": "code",
   "execution_count": null,
   "metadata": {},
   "outputs": [],
   "source": []
  }
 ],
 "metadata": {
  "kernelspec": {
   "display_name": "Python 3",
   "language": "python",
   "name": "python3"
  },
  "language_info": {
   "codemirror_mode": {
    "name": "ipython",
    "version": 3
   },
   "file_extension": ".py",
   "mimetype": "text/x-python",
   "name": "python",
   "nbconvert_exporter": "python",
   "pygments_lexer": "ipython3",
   "version": "3.12.4"
  }
 },
 "nbformat": 4,
 "nbformat_minor": 2
}
