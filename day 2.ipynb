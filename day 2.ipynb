{
 "cells": [
  {
   "cell_type": "code",
   "execution_count": 1,
   "metadata": {},
   "outputs": [],
   "source": [
    "# String slicing, \n",
    "# string methods,\n",
    "# lists and list methods, tuple and tuple methods,\n",
    "# Conversion of strings to list,\n",
    "# list"
   ]
  },
  {
   "cell_type": "code",
   "execution_count": null,
   "metadata": {},
   "outputs": [],
   "source": [
    "sample_string = \"Today is saturday\"\n",
    "print(sample_string[0])\n",
    "print(sample_string[0:5])"
   ]
  },
  {
   "cell_type": "code",
   "execution_count": null,
   "metadata": {},
   "outputs": [],
   "source": [
    "print(sample_string[0::2])"
   ]
  },
  {
   "cell_type": "code",
   "execution_count": null,
   "metadata": {},
   "outputs": [],
   "source": [
    "# in python, ur iterables are provided with a two way indexing. From the left, the elements are indexed 0,1,2,... and so on.\n",
    "#  From the right end of your \n",
    "a=\"Another string\"\n",
    "print(a[-1])\n",
    "print(a[-1::-1])\n",
    "# print(a[1::1])"
   ]
  },
  {
   "cell_type": "code",
   "execution_count": null,
   "metadata": {},
   "outputs": [],
   "source": [
    "print(a[::2])"
   ]
  },
  {
   "cell_type": "code",
   "execution_count": null,
   "metadata": {},
   "outputs": [],
   "source": [
    "print(a[::-1])"
   ]
  },
  {
   "cell_type": "code",
   "execution_count": null,
   "metadata": {},
   "outputs": [],
   "source": [
    "print(a[::-2])"
   ]
  },
  {
   "cell_type": "code",
   "execution_count": null,
   "metadata": {},
   "outputs": [],
   "source": [
    "# string methods\n",
    "# length method\n",
    "sample_string = \"bangalore\"\n",
    "print(len(sample_string))"
   ]
  },
  {
   "cell_type": "code",
   "execution_count": null,
   "metadata": {},
   "outputs": [],
   "source": [
    "print(sample_string.find(\"a\"))"
   ]
  },
  {
   "cell_type": "code",
   "execution_count": null,
   "metadata": {},
   "outputs": [],
   "source": [
    "print(sample_string.find(\"a\",3,9))"
   ]
  },
  {
   "cell_type": "code",
   "execution_count": null,
   "metadata": {},
   "outputs": [],
   "source": [
    "print(sample_string.replace(\"a\",\"b\",1))\n",
    "# print(sample_string)"
   ]
  },
  {
   "cell_type": "code",
   "execution_count": null,
   "metadata": {},
   "outputs": [],
   "source": [
    "print(sample_string.replace(\"a\",\"b\",2))"
   ]
  },
  {
   "cell_type": "code",
   "execution_count": null,
   "metadata": {},
   "outputs": [],
   "source": [
    "print(sample_string.upper())\n",
    "print(sample_string.capitalize())"
   ]
  },
  {
   "cell_type": "code",
   "execution_count": null,
   "metadata": {},
   "outputs": [],
   "source": [
    "sample_string=\"abcd\"\n",
    "if sample_string.isalpha():\n",
    "    print(\"Only alphabets!\")"
   ]
  },
  {
   "cell_type": "code",
   "execution_count": null,
   "metadata": {},
   "outputs": [],
   "source": [
    "sample_string=\"1224\"\n",
    "if sample_string.isdigit():\n",
    "    print(\"Only digits!\")"
   ]
  },
  {
   "cell_type": "code",
   "execution_count": null,
   "metadata": {},
   "outputs": [],
   "source": [
    "sample_string=\"1224\"\n",
    "if sample_string.isalnum():\n",
    "    print(\"contains alphabets or digits!\")"
   ]
  },
  {
   "cell_type": "code",
   "execution_count": null,
   "metadata": {},
   "outputs": [],
   "source": [
    "sample_string=\" \"\n",
    "if sample_string.isspace():\n",
    "    print(\"only spaces are there!\")"
   ]
  },
  {
   "cell_type": "code",
   "execution_count": null,
   "metadata": {},
   "outputs": [],
   "source": [
    "x=[1,2,3,4,5,6]\n",
    "x.append(7)\n",
    "print(x)\n"
   ]
  },
  {
   "cell_type": "code",
   "execution_count": null,
   "metadata": {},
   "outputs": [],
   "source": [
    "x.index(3)\n"
   ]
  },
  {
   "cell_type": "code",
   "execution_count": null,
   "metadata": {},
   "outputs": [],
   "source": [
    "x.clear()\n",
    "print(x)"
   ]
  },
  {
   "cell_type": "code",
   "execution_count": null,
   "metadata": {},
   "outputs": [],
   "source": [
    "x=[1,2,3,4,5,6]\n",
    "x.insert(2,\"Python\")\n",
    "print(x)"
   ]
  },
  {
   "cell_type": "code",
   "execution_count": null,
   "metadata": {},
   "outputs": [],
   "source": [
    "print(x.count(2))\n"
   ]
  },
  {
   "cell_type": "code",
   "execution_count": null,
   "metadata": {},
   "outputs": [],
   "source": [
    "x.remove(1)\n",
    "print(x)"
   ]
  },
  {
   "cell_type": "code",
   "execution_count": null,
   "metadata": {},
   "outputs": [],
   "source": [
    "y=x.pop()\n",
    "print(y)\n",
    "print(x)"
   ]
  },
  {
   "cell_type": "code",
   "execution_count": null,
   "metadata": {},
   "outputs": [],
   "source": [
    "y=x.pop(-2)\n",
    "print(y)\n",
    "print(x)"
   ]
  },
  {
   "cell_type": "code",
   "execution_count": null,
   "metadata": {},
   "outputs": [],
   "source": [
    "x=[1,2,3,4,5,6]\n",
    "x.reverse()\n",
    "print(x)"
   ]
  },
  {
   "cell_type": "code",
   "execution_count": null,
   "metadata": {},
   "outputs": [],
   "source": [
    "x=[1,2,3,-5,-7,-2,0,56]\n",
    "x.sort()\n",
    "print(x)"
   ]
  },
  {
   "cell_type": "code",
   "execution_count": null,
   "metadata": {},
   "outputs": [],
   "source": [
    "x=[1,2,3,-5,-7,-2,0,56]\n",
    "x.sort(reverse=True)\n",
    "print(x)"
   ]
  },
  {
   "cell_type": "code",
   "execution_count": null,
   "metadata": {},
   "outputs": [],
   "source": [
    "x=list(\"string\")\n",
    "print(x)"
   ]
  },
  {
   "cell_type": "code",
   "execution_count": null,
   "metadata": {},
   "outputs": [],
   "source": [
    "x=\"This is another string\"\n",
    "print(x.split(\" \"))"
   ]
  },
  {
   "cell_type": "code",
   "execution_count": 39,
   "metadata": {},
   "outputs": [
    {
     "name": "stdout",
     "output_type": "stream",
     "text": [
      "['This', 'is', 'another string']\n"
     ]
    }
   ],
   "source": [
    "x=\"This-,is-,another string\"\n",
    "print(x.split(\"-,\"))"
   ]
  },
  {
   "cell_type": "code",
   "execution_count": 40,
   "metadata": {},
   "outputs": [],
   "source": [
    "# Mutable data types are those data types which csn  afford changes. you can change the values which are stored in a\n",
    "# mutable data type as our wish.However, this is not in the case with immutable data types."
   ]
  },
  {
   "cell_type": "code",
   "execution_count": 43,
   "metadata": {},
   "outputs": [
    {
     "name": "stdout",
     "output_type": "stream",
     "text": [
      "[1, 2, 3, 4, 77, 5]\n",
      "[1, 2, 3, 4, 77, 5]\n"
     ]
    }
   ],
   "source": [
    "x=[1,2,3,4]\n",
    "y=x\n",
    "y.append(5)\n",
    "print(y)\n",
    "print(x)"
   ]
  },
  {
   "cell_type": "code",
   "execution_count": 46,
   "metadata": {},
   "outputs": [
    {
     "name": "stdout",
     "output_type": "stream",
     "text": [
      "string1 string1\n",
      "4361266736 4361266736\n"
     ]
    }
   ],
   "source": [
    "st1=\"string1\"\n",
    "st2=st1\n",
    "print(st1,st2)\n",
    "print(id(st1),id(st2))"
   ]
  },
  {
   "cell_type": "code",
   "execution_count": 48,
   "metadata": {},
   "outputs": [
    {
     "name": "stdout",
     "output_type": "stream",
     "text": [
      "string1hello!\n",
      "4356796016\n",
      "4361266736\n"
     ]
    }
   ],
   "source": [
    "st2+=\"hello!\"\n",
    "print(st2)\n",
    "print(id(st2))\n",
    "print(id(st1))\n",
    "\n"
   ]
  },
  {
   "cell_type": "code",
   "execution_count": 3,
   "metadata": {},
   "outputs": [
    {
     "name": "stdout",
     "output_type": "stream",
     "text": [
      "(4, 5, 6)\n",
      "(4, 5, 6, 7, 8, 9)\n"
     ]
    }
   ],
   "source": [
    "x=(4,5,6)\n",
    "y=x\n",
    "y=y+(7,8,9)\n",
    "print(x)\n",
    "print(y)"
   ]
  },
  {
   "cell_type": "code",
   "execution_count": 52,
   "metadata": {},
   "outputs": [
    {
     "name": "stdout",
     "output_type": "stream",
     "text": [
      "[1, 2, 3, 4, 5, 6]\n"
     ]
    }
   ],
   "source": [
    "print([1,2,3]+[4,5,6])"
   ]
  },
  {
   "cell_type": "code",
   "execution_count": 65,
   "metadata": {},
   "outputs": [
    {
     "name": "stdout",
     "output_type": "stream",
     "text": [
      "[1, 2, 3, 4]\n",
      "[1, 2, 3, 4]\n"
     ]
    }
   ],
   "source": [
    "sample1=[1,2,3,4]\n",
    "sample2=sample1.copy() #creates ashallow copy, cheanges made to sample2 will not get reflected in sample3\n",
    "print(sample1)\n",
    "print(sample2)"
   ]
  },
  {
   "cell_type": "code",
   "execution_count": 67,
   "metadata": {},
   "outputs": [
    {
     "name": "stdout",
     "output_type": "stream",
     "text": [
      "[1, 2, 3, 4]\n",
      "[1, 2, 3, 4, 5, 5]\n"
     ]
    }
   ],
   "source": [
    "sample2.append(5)\n",
    "print(sample1)\n",
    "print(sample2)"
   ]
  },
  {
   "cell_type": "code",
   "execution_count": 71,
   "metadata": {},
   "outputs": [
    {
     "name": "stdout",
     "output_type": "stream",
     "text": [
      "[1, 2, 3, 4, [1, 2, 3, 4]]\n",
      "2\n"
     ]
    }
   ],
   "source": [
    "#The extend method\n",
    "a=[1,2,3,4]\n",
    "a.append([1,2,3,4])\n",
    "print(a)"
   ]
  },
  {
   "cell_type": "code",
   "execution_count": 73,
   "metadata": {},
   "outputs": [
    {
     "name": "stdout",
     "output_type": "stream",
     "text": [
      "[1, 2, 3, 4, 1, 2, 3, 4]\n"
     ]
    }
   ],
   "source": [
    "a=[1,2,3,4]\n",
    "a.extend([1,2,3,4])\n",
    "print(a)"
   ]
  },
  {
   "cell_type": "code",
   "execution_count": 75,
   "metadata": {},
   "outputs": [
    {
     "name": "stdout",
     "output_type": "stream",
     "text": [
      "[1, 2, 3, 4, 1, 2, 3, 4, 'p', 'y', 't', 'h', 'o', 'n', 'p', 'y', 't', 'h', 'o', 'n']\n"
     ]
    }
   ],
   "source": [
    "a.extend(\"python\")\n",
    "print(a)"
   ]
  },
  {
   "cell_type": "code",
   "execution_count": 1,
   "metadata": {},
   "outputs": [
    {
     "name": "stdout",
     "output_type": "stream",
     "text": [
      "[]\n"
     ]
    }
   ],
   "source": [
    "# MAP FUNCTION_______________________________________________________\n",
    "\n",
    "num_list= list(map(int,input().split()))\n",
    "print(num_list)"
   ]
  },
  {
   "cell_type": "code",
   "execution_count": 4,
   "metadata": {},
   "outputs": [
    {
     "name": "stdout",
     "output_type": "stream",
     "text": [
      "{1, 2, 3}\n"
     ]
    }
   ],
   "source": [
    "num_list= set(map(int,input().split()))\n",
    "print(num_list)"
   ]
  },
  {
   "cell_type": "code",
   "execution_count": 8,
   "metadata": {},
   "outputs": [
    {
     "name": "stdout",
     "output_type": "stream",
     "text": [
      "(2, 3, 4)\n"
     ]
    }
   ],
   "source": [
    "num_list= tuple(map(int,input().split()))\n",
    "print(num_list)"
   ]
  },
  {
   "cell_type": "code",
   "execution_count": 10,
   "metadata": {},
   "outputs": [
    {
     "name": "stdout",
     "output_type": "stream",
     "text": [
      "[]\n"
     ]
    }
   ],
   "source": [
    "num_list= list(map(len,input().split()))\n",
    "print(num_list)"
   ]
  },
  {
   "cell_type": "code",
   "execution_count": 12,
   "metadata": {},
   "outputs": [
    {
     "name": "stdout",
     "output_type": "stream",
     "text": [
      "[2, 5, 4, 4]\n"
     ]
    }
   ],
   "source": [
    "num_list= list(map(len,[\"Hi\",\"Hello\",\"Hola\",\"Ciao\"]))\n",
    "print(num_list)"
   ]
  },
  {
   "cell_type": "code",
   "execution_count": 1,
   "metadata": {},
   "outputs": [
    {
     "name": "stdout",
     "output_type": "stream",
     "text": [
      "You have entered a number\n"
     ]
    }
   ],
   "source": [
    "# You are supposed to take a character input from \n",
    "# the user and print \"You have entered an alphabet\", i\n",
    "# f the user enters an alphabet, \"you have entered a digit\",\n",
    "\n",
    "\n",
    "\n",
    "char=input(\"Enter a character\")\n",
    "if(len(char)>1):\n",
    "    print(\"Please Enter a valid character!\")\n",
    "else:\n",
    "    if(char.isalpha()):\n",
    "        print(\"You have entered an alphabet\")\n",
    "    elif(char.isdigit()):\n",
    "        print(\"You have entered a number\")\n",
    "    elif(char.isspace()):\n",
    "        print(\"You have entered a white space\")\n",
    "    else:\n",
    "        print(\"You have entered a special character\")\n"
   ]
  },
  {
   "cell_type": "code",
   "execution_count": 2,
   "metadata": {},
   "outputs": [
    {
     "name": "stdout",
     "output_type": "stream",
     "text": [
      "You have entered a number\n"
     ]
    }
   ],
   "source": [
    "# You are supposed to take a character input from \n",
    "# the user and print \"You have entered an alphabet\", i\n",
    "# f the user enters an alphabet, \"you have entered a digit\",\n",
    "\n",
    "\n",
    "\n",
    "char=input(\"Enter a character\")\n",
    "if(len(char)>1):\n",
    "    print(\"Please Enter a valid character!\")\n",
    "else:\n",
    "    if(char.isalpha()):\n",
    "        print(\"You have entered an alphabet\")\n",
    "    elif(char.isdigit()):\n",
    "        print(\"You have entered a number\")\n",
    "    elif(char.isspace()):\n",
    "        print(\"You have entered a white space\")\n",
    "    else:\n",
    "        print(\"You have entered a special character\")\n"
   ]
  },
  {
   "cell_type": "code",
   "execution_count": 3,
   "metadata": {},
   "outputs": [
    {
     "name": "stdout",
     "output_type": "stream",
     "text": [
      "[4, 5, 2, 1, 7, 5, 6]\n",
      "The second largest is 6\n"
     ]
    }
   ],
   "source": [
    "num_list= list(map(int,input(\"Enter the elements: \").split()))\n",
    "print(num_list)\n",
    "i=0\n",
    "largest=num_list[0]\n",
    "second_largest=num_list[0]\n",
    "\n",
    "if(len(num_list)==1):\n",
    "    print(f\"There is only one number!\")\n",
    "\n",
    "else:\n",
    "    while(i<len(num_list)):\n",
    "            \n",
    "        if(num_list[i] > largest):\n",
    "            second_largest = largest\n",
    "            largest = num_list[i]\n",
    "            \n",
    "        elif (largest == second_largest):\n",
    "            second_largest = num_list[i]\n",
    "\n",
    "        else:\n",
    "            #This block will get executed if my second largest is not equal to largest.\n",
    "            if (num_list[i] > second_largest):\n",
    "                second_largest = num_list[i]\n",
    "\n",
    "\n",
    "        \n",
    "        \n",
    "        i+=1\n",
    "\n",
    "    print(f\"The second largest is {second_largest}\")\n",
    "        "
   ]
  },
  {
   "cell_type": "code",
   "execution_count": null,
   "metadata": {},
   "outputs": [],
   "source": []
  }
 ],
 "metadata": {
  "kernelspec": {
   "display_name": "Python 3",
   "language": "python",
   "name": "python3"
  },
  "language_info": {
   "codemirror_mode": {
    "name": "ipython",
    "version": 3
   },
   "file_extension": ".py",
   "mimetype": "text/x-python",
   "name": "python",
   "nbconvert_exporter": "python",
   "pygments_lexer": "ipython3",
   "version": "3.12.4"
  }
 },
 "nbformat": 4,
 "nbformat_minor": 2
}
