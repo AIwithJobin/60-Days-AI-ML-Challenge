{
 "cells": [
  {
   "cell_type": "markdown",
   "metadata": {},
   "source": []
  },
  {
   "cell_type": "code",
   "execution_count": 13,
   "metadata": {},
   "outputs": [
    {
     "name": "stdout",
     "output_type": "stream",
     "text": [
      "the gcd is 5\n"
     ]
    }
   ],
   "source": [
    "#Print the GCD (Greatest Common Divisor) of two given numbers\n",
    "num1=int(input(\"Enter the first number\"))\n",
    "num2=int(input(\"Enter the second number\"))\n",
    "low=min(num1,num2)\n",
    "\n",
    "for i in range (1,low+1):\n",
    "    if(num1%i ==0 and num2%i == 0):\n",
    "        max=i\n",
    "\n",
    "print(f\"the gcd is {max}\")\n",
    "\n",
    "\n",
    "\n",
    "  \n",
    "\n"
   ]
  },
  {
   "cell_type": "code",
   "execution_count": 38,
   "metadata": {},
   "outputs": [
    {
     "name": "stdout",
     "output_type": "stream",
     "text": [
      "['j', 'o', 'b', 'i', 'n', '*', '*', 'j', 'o', 'b', '*', 'j', 'o', 'b', 'i', 'n', '*']\n",
      "jobjojobi\n"
     ]
    }
   ],
   "source": [
    "# Remove all stars '*' from the given string along with the closest non-star character to its left.\n",
    "string=list(input(\"Enter the string\"))\n",
    "print(string)\n",
    "list1=[]\n",
    "for i in string:\n",
    "    if i!=\"*\":\n",
    "        list1.append(i)\n",
    "    else:\n",
    "        list1.pop()       \n",
    "        \n",
    "print(''.join(list1))\n"
   ]
  },
  {
   "cell_type": "markdown",
   "metadata": {},
   "source": [
    "#Print the GCD (Greatest Common Divisor) of two given numbers\n",
    "num1=int(input(\"Enter the first number\"))\n",
    "num2=int(input(\"Enter the second number\"))\n",
    "\n",
    "\n",
    "\n",
    "while num2>0:\n",
    "    rem=num2%num1  #rem = 17%6 = 5\n",
    "    if(rem==0): \n",
    "        print(num1)\n",
    "        break\n",
    "    else:\n",
    "        num2=num1 #num2 = 6\n",
    "        num1=rem  #num1 =5    \n",
    "\n",
    "    "
   ]
  },
  {
   "cell_type": "markdown",
   "metadata": {},
   "source": [
    "##\n",
    "OOPS"
   ]
  },
  {
   "cell_type": "code",
   "execution_count": null,
   "metadata": {},
   "outputs": [],
   "source": [
    "# every thing in python is an object\n"
   ]
  },
  {
   "cell_type": "code",
   "execution_count": 27,
   "metadata": {},
   "outputs": [
    {
     "name": "stdout",
     "output_type": "stream",
     "text": [
      "<class '__main__.Myclass'>\n"
     ]
    }
   ],
   "source": [
    "# user defined classes\n",
    "\n",
    "# use class and the name of the class\n",
    "    \n",
    "class Myclass:\n",
    "    x=5\n",
    "my_class_obj=Myclass()\n",
    "print(type(my_class_obj))\n"
   ]
  },
  {
   "cell_type": "code",
   "execution_count": 28,
   "metadata": {},
   "outputs": [
    {
     "ename": "TypeError",
     "evalue": "Vehicle() takes no arguments",
     "output_type": "error",
     "traceback": [
      "\u001b[1;31m---------------------------------------------------------------------------\u001b[0m",
      "\u001b[1;31mTypeError\u001b[0m                                 Traceback (most recent call last)",
      "Cell \u001b[1;32mIn[28], line 10\u001b[0m\n\u001b[0;32m      7\u001b[0m \u001b[38;5;28;01mdef\u001b[39;00m \u001b[38;5;21mdescribe_vehicle\u001b[39m(\u001b[38;5;28mself\u001b[39m):\n\u001b[0;32m      8\u001b[0m     \u001b[38;5;28;01mreturn\u001b[39;00m \u001b[38;5;124mf\u001b[39m\u001b[38;5;124m\"\u001b[39m\u001b[38;5;124mThe vehicle is of type \u001b[39m\u001b[38;5;132;01m{\u001b[39;00m\u001b[38;5;28mself\u001b[39m\u001b[38;5;241m.\u001b[39m\u001b[38;5;250m \u001b[39mvipee\u001b[38;5;132;01m}\u001b[39;00m\u001b[38;5;124miaod is \u001b[39m\u001b[38;5;132;01m{\u001b[39;00m\u001b[38;5;28mself\u001b[39m\u001b[38;5;241m.\u001b[39m\u001b[38;5;250m \u001b[39mvagee\u001b[38;5;132;01m}\u001b[39;00m\u001b[38;5;124m years old.\u001b[39m\u001b[38;5;124m\"\u001b[39m\n\u001b[1;32m---> 10\u001b[0m my_vehicle \u001b[38;5;241m=\u001b[39m \u001b[43mVehicle\u001b[49m\u001b[43m(\u001b[49m\u001b[38;5;124;43m\"\u001b[39;49m\u001b[38;5;124;43mBike\u001b[39;49m\u001b[38;5;124;43m\"\u001b[39;49m\u001b[43m,\u001b[49m\u001b[38;5;241;43m3\u001b[39;49m\u001b[43m)\u001b[49m \u001b[38;5;66;03m#When this statement is getting executed, \u001b[39;00m\n\u001b[0;32m     11\u001b[0m \u001b[38;5;66;03m#the _init_ method is called with selfreferring to my_vehicle\u001b[39;00m\n\u001b[0;32m     12\u001b[0m \u001b[38;5;28mprint\u001b[39m(my_vehicle\u001b[38;5;241m.\u001b[39mdescribe_vehicle())\n",
      "\u001b[1;31mTypeError\u001b[0m: Vehicle() takes no arguments"
     ]
    }
   ],
   "source": [
    "class Vehicle:\n",
    "    def _init_(self, vtype, vage): #Constructor function\n",
    "        #self parameter is a reference to the object which is being used to invoke this method.\n",
    "        self.vtydee = vtype\n",
    "        self.vagee = vage\n",
    "\n",
    "def describe_vehicle(self):\n",
    "    return f\"The vehicle is of type {self. vipee}iaod is {self. vagee} years old.\"\n",
    "\n",
    "my_vehicle = Vehicle(\"Bike\",3) #When this statement is getting executed, \n",
    "#the _init_ method is called with selfreferring to my_vehicle\n",
    "print(my_vehicle.describe_vehicle())"
   ]
  },
  {
   "cell_type": "code",
   "execution_count": null,
   "metadata": {},
   "outputs": [],
   "source": [
    "class car(vechicle)"
   ]
  }
 ],
 "metadata": {
  "kernelspec": {
   "display_name": "Python 3",
   "language": "python",
   "name": "python3"
  },
  "language_info": {
   "codemirror_mode": {
    "name": "ipython",
    "version": 3
   },
   "file_extension": ".py",
   "mimetype": "text/x-python",
   "name": "python",
   "nbconvert_exporter": "python",
   "pygments_lexer": "ipython3",
   "version": "3.12.4"
  }
 },
 "nbformat": 4,
 "nbformat_minor": 2
}
