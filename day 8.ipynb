{
 "cells": [
  {
   "cell_type": "code",
   "execution_count": null,
   "metadata": {},
   "outputs": [],
   "source": [
    "#abstraction -- lot of inbuilt functions ,we just need to know the name and what they do,we dont need to know what the code is for that function and\n",
    "#  its internal functions,we just call theese functions that is an example of abstaraction\n",
    "\n",
    "#inheritance --  splicing() id common for lit and tuple,but they different in the way they operate but they are comming from the same parent \n",
    "\n",
    "# polymorphism --  + operator -- for stings it does concatenation but in case of intergers it does addition \n",
    "\n",
    "#encaplsulation-- we declare all the attributes and functions of the class when we create it it is not done seperatly that is encapsulation\n",
    "\n",
    "\n"
   ]
  },
  {
   "cell_type": "code",
   "execution_count": 7,
   "metadata": {},
   "outputs": [],
   "source": [
    "#classes are user defined datat types which defines the blueorint or the structure of certain entities which are going to the memory\n",
    "# this blueprint includes both properties and methods\n",
    "\n",
    "#objects are noting but the entities of a class . or instances of a class whicha re creatded in the memory using the blueprint /structure which is present in your defenition.you have multiple objects of the same classes.\n",
    "\n",
    "class vechicle:\n",
    "    #class denenition follows here .one inpotant point is your class defeniton cannot be empty\n",
    "    #to create an empty class just mention pass\n",
    "\n",
    "    type_of_vechicle=\"car\"\n",
    "    def fetch_no_of_wheels(self):\n",
    "        print(\"4\")"
   ]
  },
  {
   "cell_type": "code",
   "execution_count": 8,
   "metadata": {},
   "outputs": [],
   "source": [
    "vechicle_obj=vechicle"
   ]
  },
  {
   "cell_type": "code",
   "execution_count": 9,
   "metadata": {},
   "outputs": [
    {
     "name": "stdout",
     "output_type": "stream",
     "text": [
      "car\n"
     ]
    }
   ],
   "source": [
    "print(vechicle_obj.type_of_vechicle)"
   ]
  },
  {
   "cell_type": "code",
   "execution_count": 57,
   "metadata": {},
   "outputs": [],
   "source": [
    "class vechicle:\n",
    "    def __init__(self,vechicle_type=None):#self i a parameter which is present in all the methods in your class and acts as the refereance to the object\n",
    "        #  which is being used to invoke the methods inthe class .as a classs can ahve multiple objects,\n",
    "        # this self parameter is also used as a differentiator between objects wgich can also be used to access the class methods\n",
    "        self.vechicletype=vechicle_type\n",
    "        \n",
    "    \n",
    "    def fetch_number_of_wheels(self):\n",
    "        if self.vechicletype==\"car\":\n",
    "            print(\"4\")\n",
    "        elif self.vechicletype == \"auto\":\n",
    "            print(\"3\")\n",
    "        elif self.vechicletype:\n",
    "            print(\"2\")\n",
    "        else:\n",
    "            print(\"0\")"
   ]
  },
  {
   "cell_type": "code",
   "execution_count": 58,
   "metadata": {},
   "outputs": [],
   "source": [
    "vechicle_1=vechicle(\"bike\")"
   ]
  },
  {
   "cell_type": "code",
   "execution_count": 59,
   "metadata": {},
   "outputs": [],
   "source": [
    "vechicle_2=vechicle()"
   ]
  },
  {
   "cell_type": "code",
   "execution_count": 60,
   "metadata": {},
   "outputs": [
    {
     "name": "stdout",
     "output_type": "stream",
     "text": [
      "bike\n"
     ]
    }
   ],
   "source": [
    "print(vechicle_1.vechicletype)"
   ]
  },
  {
   "cell_type": "code",
   "execution_count": 61,
   "metadata": {},
   "outputs": [
    {
     "name": "stdout",
     "output_type": "stream",
     "text": [
      "None\n"
     ]
    }
   ],
   "source": [
    "print(vechicle_2.vechicletype)"
   ]
  },
  {
   "cell_type": "code",
   "execution_count": 62,
   "metadata": {},
   "outputs": [],
   "source": [
    "class sample_class:\n",
    "    x=5\n",
    "    def greet(self):\n",
    "        print(\"hello sample class!\")\n",
    "        "
   ]
  },
  {
   "cell_type": "code",
   "execution_count": 63,
   "metadata": {},
   "outputs": [],
   "source": [
    "sample_obj=sample_class()"
   ]
  },
  {
   "cell_type": "code",
   "execution_count": 64,
   "metadata": {},
   "outputs": [],
   "source": [
    "#even if i dont specify __init__ explicityl automatically python invokes __init__ that is why __init__ is called the constructor\n",
    "#whenever you re creaintg the object of a class in python ,the init__()of athat particluar class is invoked to comstruct the object \n",
    "# in the memory.every class will have the __init__(),even if the user does not explicitly ,mention the __innt()function pf the class ,\n",
    "# it is automatically created by python"
   ]
  },
  {
   "cell_type": "code",
   "execution_count": 65,
   "metadata": {},
   "outputs": [],
   "source": [
    "vechicle_3=vechicle(\"auto\")"
   ]
  },
  {
   "cell_type": "code",
   "execution_count": 66,
   "metadata": {},
   "outputs": [],
   "source": [
    "vechicle_4=vechicle(\"crane\")"
   ]
  },
  {
   "cell_type": "code",
   "execution_count": 67,
   "metadata": {},
   "outputs": [],
   "source": [
    "vechicle_5=vechicle(\"cycle\")"
   ]
  },
  {
   "cell_type": "code",
   "execution_count": 68,
   "metadata": {},
   "outputs": [
    {
     "name": "stdout",
     "output_type": "stream",
     "text": [
      "3\n"
     ]
    }
   ],
   "source": [
    "vechicle_3.fetch_number_of_wheels()"
   ]
  },
  {
   "cell_type": "code",
   "execution_count": 69,
   "metadata": {},
   "outputs": [
    {
     "name": "stdout",
     "output_type": "stream",
     "text": [
      "2\n"
     ]
    }
   ],
   "source": [
    "vechicle_5.fetch_number_of_wheels()"
   ]
  },
  {
   "cell_type": "code",
   "execution_count": 70,
   "metadata": {},
   "outputs": [
    {
     "name": "stdout",
     "output_type": "stream",
     "text": [
      "2\n"
     ]
    }
   ],
   "source": [
    "vechicle_4.fetch_number_of_wheels()"
   ]
  },
  {
   "cell_type": "code",
   "execution_count": 75,
   "metadata": {},
   "outputs": [],
   "source": [
    "class player:\n",
    "    def __init__ (random_param,sport):\n",
    "        random_param.sport=sport\n",
    "\n",
    "    def greet_player(gibberish):\n",
    "        if gibberish.sport==\"cricket\":\n",
    "            print(\"hi\")\n",
    "        elif(gibberish.sport==\"football\"):\n",
    "            print(\"hello\")\n",
    "        elif(gibberish.sport==\"hockey\"):\n",
    "            print(\"hola!\")\n",
    "        else:\n",
    "            print(\"bye bye1\")\n"
   ]
  },
  {
   "cell_type": "code",
   "execution_count": 76,
   "metadata": {},
   "outputs": [],
   "source": [
    "player_1=player(\"cricket\")"
   ]
  },
  {
   "cell_type": "code",
   "execution_count": 77,
   "metadata": {},
   "outputs": [
    {
     "name": "stdout",
     "output_type": "stream",
     "text": [
      "hi\n"
     ]
    }
   ],
   "source": [
    "player_1.greet_player()"
   ]
  },
  {
   "cell_type": "code",
   "execution_count": 79,
   "metadata": {},
   "outputs": [],
   "source": [
    "#inheritance in python\n",
    "\n",
    "\n",
    "class person:\n",
    "    def __init__(self,fname,lname):\n",
    "        self.lname=lname\n",
    "        self.fname=fname\n",
    "\n",
    "    def greet(self):\n",
    "        print(f\"hello from {self.fname} {self.lname}\")\n",
    "\n",
    "# class vechicle:\n",
    "#     def __init__(self,vechicle_type):\n",
    "#         self.vechicletype=vechicle_type\n",
    "\n",
    "#     def move(self):\n",
    "#         print(\"drive\")\n",
    "    "
   ]
  },
  {
   "cell_type": "code",
   "execution_count": 121,
   "metadata": {},
   "outputs": [],
   "source": [
    "class student(person):\n",
    "    #person is the parent class and student is the child class\n",
    "    def __init__(self,fname,lname,insti):\n",
    "        person.__init__(self,fname,lname)\n",
    "        self.fname=\"hola\"#parameter overriding\n",
    "        self.insti=insti\n",
    "\n",
    "    def print_institution(self):\n",
    "        return f\"i am a part of {self.insti}\"\n",
    "    \n",
    "    def greet(self):# function overriding\n",
    "        print(f\"hello from {self.fname} {self.lname} I am a student at {self.insti}\")"
   ]
  },
  {
   "cell_type": "code",
   "execution_count": 107,
   "metadata": {},
   "outputs": [],
   "source": [
    "p1=person(\"jobin\",\"jose\")\n"
   ]
  },
  {
   "cell_type": "code",
   "execution_count": 108,
   "metadata": {},
   "outputs": [],
   "source": [
    "p1.fname=\"josmy\""
   ]
  },
  {
   "cell_type": "code",
   "execution_count": 109,
   "metadata": {},
   "outputs": [
    {
     "data": {
      "text/plain": [
       "'jose'"
      ]
     },
     "execution_count": 109,
     "metadata": {},
     "output_type": "execute_result"
    }
   ],
   "source": [
    "p1.lname"
   ]
  },
  {
   "cell_type": "code",
   "execution_count": 110,
   "metadata": {},
   "outputs": [
    {
     "data": {
      "text/plain": [
       "'josmy jose'"
      ]
     },
     "execution_count": 110,
     "metadata": {},
     "output_type": "execute_result"
    }
   ],
   "source": [
    "p1.fname +\" \"+p1.lname"
   ]
  },
  {
   "cell_type": "code",
   "execution_count": 122,
   "metadata": {},
   "outputs": [],
   "source": [
    "p2=student(\"miles\",\"morales\",\"midtown high\")"
   ]
  },
  {
   "cell_type": "code",
   "execution_count": 123,
   "metadata": {},
   "outputs": [
    {
     "name": "stdout",
     "output_type": "stream",
     "text": [
      "hello from josmy jose\n"
     ]
    }
   ],
   "source": [
    "p1.greet()"
   ]
  },
  {
   "cell_type": "code",
   "execution_count": 124,
   "metadata": {},
   "outputs": [
    {
     "name": "stdout",
     "output_type": "stream",
     "text": [
      "hello from hola morales I am a student at midtown high\n"
     ]
    }
   ],
   "source": [
    "p2.greet()"
   ]
  },
  {
   "cell_type": "code",
   "execution_count": 125,
   "metadata": {},
   "outputs": [],
   "source": [
    "# multiple inheritance -- type of inheritance where the child class inherit from more than 1 parent class\n",
    "\n",
    "class person:\n",
    "    def __init__(self,fname,lname):\n",
    "        self.fname=fname\n",
    "        self.lname=lname\n",
    "\n",
    "    def greet(self):\n",
    "        print(f\"hello from {self.fname} {self.lname}\")\n",
    "    \n",
    "    \n",
    "\n"
   ]
  },
  {
   "cell_type": "code",
   "execution_count": 128,
   "metadata": {},
   "outputs": [],
   "source": [
    "class employee():\n",
    "    def __init__(self,org,emp_id):\n",
    "        self.organization=org\n",
    "        self.empid=emp_id\n",
    "\n",
    "    def emp_intro(self):\n",
    "        print(f\"i work in {self.organization} and my employee id id { self.empid}\")\n"
   ]
  },
  {
   "cell_type": "code",
   "execution_count": 129,
   "metadata": {},
   "outputs": [],
   "source": [
    "class manager(employee,person):\n",
    "    def __init__(self,fname,lname,org,emp_id,team_size):\n",
    "        person.__init__(self,fname,lname)\n",
    "        employee.__init__(self,org,emp_id)\n",
    "        self.teamsize=team_size\n",
    "\n",
    "    def manager_intro(self):\n",
    "        return f\"i lead a team of {self.teamsize} members \""
   ]
  },
  {
   "cell_type": "code",
   "execution_count": 130,
   "metadata": {},
   "outputs": [],
   "source": [
    "manager_1=manager(\"peter\",\"parker\",\"SHIELD\",7,5)"
   ]
  },
  {
   "cell_type": "code",
   "execution_count": 131,
   "metadata": {},
   "outputs": [
    {
     "data": {
      "text/plain": [
       "'i lead a team of 5 members '"
      ]
     },
     "execution_count": 131,
     "metadata": {},
     "output_type": "execute_result"
    }
   ],
   "source": [
    "manager_1.manager_intro()"
   ]
  },
  {
   "cell_type": "code",
   "execution_count": 132,
   "metadata": {},
   "outputs": [
    {
     "name": "stdout",
     "output_type": "stream",
     "text": [
      "hello from peter parker\n"
     ]
    }
   ],
   "source": [
    "manager_1.greet()"
   ]
  },
  {
   "cell_type": "code",
   "execution_count": 133,
   "metadata": {},
   "outputs": [
    {
     "name": "stdout",
     "output_type": "stream",
     "text": [
      "i work in SHIELD and my employee id id 7\n"
     ]
    }
   ],
   "source": [
    "manager_1.emp_intro()"
   ]
  },
  {
   "cell_type": "code",
   "execution_count": null,
   "metadata": {},
   "outputs": [],
   "source": [
    "#polymorphism os implemented using method overloading.\n",
    "\n",
    "# len()gives the length of the characters in the string ,\n",
    "# but with list or tuple it gives the  number of elements in the list and tuple\n",
    "\n"
   ]
  },
  {
   "cell_type": "code",
   "execution_count": 137,
   "metadata": {},
   "outputs": [],
   "source": [
    "# multiple inheritance -- type of inheritance where the child class inherit from more than 1 parent class\n",
    "\n",
    "class person:\n",
    "    def __init__(self,fname,lname):\n",
    "        self.fname=fname\n",
    "        self.lname=lname\n",
    "\n",
    "    def greet(self):\n",
    "        print(f\"hello from {self.fname} {self.lname}\")\n",
    "    \n",
    "    \n",
    "\n"
   ]
  },
  {
   "cell_type": "code",
   "execution_count": 141,
   "metadata": {},
   "outputs": [],
   "source": [
    "class employee():\n",
    "    def __init__(self,fname,lname,org,emp_id):\n",
    "        person.__init__(self,fname,lname)\n",
    "        self.organization=org\n",
    "        self.empid=emp_id\n",
    "\n",
    "    def greet(self):\n",
    "        print(f\"i work in {self.organization} and my employee id id { self.empid}\")\n"
   ]
  },
  {
   "cell_type": "code",
   "execution_count": 142,
   "metadata": {},
   "outputs": [],
   "source": [
    "p1=person(\"sam\",\"ALtnam\")\n",
    "p2=employee(\"Elon\",\"musk\",7,6)"
   ]
  },
  {
   "cell_type": "code",
   "execution_count": 143,
   "metadata": {},
   "outputs": [
    {
     "name": "stdout",
     "output_type": "stream",
     "text": [
      "hello from sam ALtnam\n",
      "i work in 7 and my employee id id 6\n"
     ]
    }
   ],
   "source": [
    "p1.greet()\n",
    "p2.greet()"
   ]
  },
  {
   "cell_type": "code",
   "execution_count": 144,
   "metadata": {},
   "outputs": [],
   "source": [
    "class car:\n",
    "    def movement(self):\n",
    "        print(\"drive\")\n",
    "    \n",
    "class ship:\n",
    "    def movement(self):\n",
    "        print(\"sail\")\n",
    "\n",
    "class jet:\n",
    "    def movement(self):\n",
    "        print(\"fly\")\n",
    "\n",
    "\n"
   ]
  },
  {
   "cell_type": "code",
   "execution_count": 145,
   "metadata": {},
   "outputs": [],
   "source": [
    "v1=car()\n",
    "v2=ship()\n",
    "v3=jet()"
   ]
  },
  {
   "cell_type": "code",
   "execution_count": 146,
   "metadata": {},
   "outputs": [
    {
     "name": "stdout",
     "output_type": "stream",
     "text": [
      "drive\n",
      "sail\n",
      "fly\n"
     ]
    }
   ],
   "source": [
    "v1.movement()\n",
    "v2.movement()\n",
    "v3.movement()"
   ]
  },
  {
   "cell_type": "code",
   "execution_count": null,
   "metadata": {},
   "outputs": [],
   "source": [
    "# del keyword is used to delete specific properties"
   ]
  },
  {
   "cell_type": "code",
   "execution_count": null,
   "metadata": {},
   "outputs": [],
   "source": [
    "# number=int(input(\"Enter the number of people\"))\n",
    "# for i in range(number):\n",
    "#     name=input(\"name of the person\")\n",
    "\n",
    "\n",
    "class bill:\n",
    "    def __init__(self,name=None,cab=0,movie=0,snacks=0,dinner=0):\n",
    "        self.name=name\n",
    "        self.cab=cab\n",
    "        self.movie=movie\n",
    "        self.snacks=snacks\n",
    "        self.dinner=dinner\n",
    "    \n",
    "    def sum(self):\n",
    "        return self.cab+self.movie+self.snacks+self.dinner\n",
    "\n",
    "\n"
   ]
  },
  {
   "cell_type": "code",
   "execution_count": 4,
   "metadata": {},
   "outputs": [
    {
     "name": "stdout",
     "output_type": "stream",
     "text": [
      "['Miles - Cab:250, Movies:100', 'Flash - Snack:450, Dinner:250, Cab:300', 'Ben - Dessert: 500, Dinner: 400', 'Amedius - Dinner:350']\n",
      "\n",
      "Miles - Cab:250, Movies:100\n",
      "Flash - Snack:450, Dinner:250, Cab:300\n",
      "Ben - Dessert: 500, Dinner: 400\n",
      "Amedius - Dinner:350\n",
      "\n",
      "Miles\n",
      "\n",
      "Flash\n",
      "\n",
      "Ben\n",
      "\n",
      "Amedius\n",
      "\n",
      "{'Miles': 'Cab:250, Movies:100', 'Flash': 'Snack:450, Dinner:250, Cab:300', 'Ben': 'Dessert: 500, Dinner: 400', 'Amedius': 'Dinner:350'}\n",
      "\n",
      "['Amedius', 'Dinner:350']\n",
      "dict_values(['Cab:250, Movies:100', 'Snack:450, Dinner:250, Cab:300', 'Dessert: 500, Dinner: 400', 'Dinner:350'])\n",
      "[['Cab:250, Movies:100'], ['Snack:450, Dinner:250, Cab:300'], ['Dessert', '500, Dinner', '400'], ['Dinner:350']]\n"
     ]
    }
   ],
   "source": [
    "file=open(\"C:\\\\Users\\\\jobin jose\\\\OneDrive\\\\Desktop\\\\input.txt\",\"r\")\n",
    "# print(file.read())\n",
    "string=file.read()\n",
    "# print(string)\n",
    "list1=string.split(\"\\n\")\n",
    "print(list1)\n",
    "print()\n",
    "names=[]\n",
    "dict={}\n",
    "list2=[]\n",
    "dict2={}\n",
    "for i in list1:\n",
    "    print(i)\n",
    "\n",
    "print()\n",
    "for i in list1:\n",
    "    item=i.split(\" - \")\n",
    "    print(item[0])\n",
    "    print()\n",
    "    dict[item[0]]=item[1]\n",
    "print(dict)\n",
    "print()\n",
    "print(item)\n",
    "\n",
    "print(dict.values())\n",
    "for j in dict.values():\n",
    "    string2=str(j)\n",
    "    string2=string2.split(\": \")\n",
    "    list2.append(string2)\n",
    "print(list2)\n",
    "\n",
    "\n",
    "# print()\n",
    "# p=0\n",
    "# for i in list1:\n",
    "#     dict2[item[i]]=list2[p]\n",
    "#     p+=1\n",
    "#     print(dict2)\n",
    "\n",
    "# print(dict2.items())\n"
   ]
  },
  {
   "cell_type": "code",
   "execution_count": null,
   "metadata": {},
   "outputs": [],
   "source": [
    "user_expenditure = dict()\n",
    "input_file = open(\"C:\\\\Users\\\\jobin jose\\\\OneDrive\\\\Desktop\\\\input.txt\",\"r\")\n",
    "for user in input_file:\n",
    "    user_name = user.split(\" - \")[0] # -> [\"Miles\",\"Cab:250,Movies:100\"]\n",
    "    individual_dict = dict()\n",
    "    expense_split = user.split(\" - \")[1].split(\",\") # -> [\"Cab:250\",\"Movies:100\"]\n",
    "    for expense in expense_split:\n",
    "        key_name = expense.split(\":\")[0]\n",
    "        expense_value = float(expense.split(\":\")[1])\n",
    "        individual_dict[key_name] = expense_value\n",
    "    user_expenditure[user_name] = individual_dict\n",
    "\n",
    "{\"Miles\":{\"Cab\":250,\"Movie\":100},\"Flash\":{\"Snack\":450,\"Dinner\":250,\"Cab\":300}}"
   ]
  },
  {
   "cell_type": "code",
   "execution_count": null,
   "metadata": {},
   "outputs": [],
   "source": []
  }
 ],
 "metadata": {
  "kernelspec": {
   "display_name": "Python 3",
   "language": "python",
   "name": "python3"
  },
  "language_info": {
   "codemirror_mode": {
    "name": "ipython",
    "version": 3
   },
   "file_extension": ".py",
   "mimetype": "text/x-python",
   "name": "python",
   "nbconvert_exporter": "python",
   "pygments_lexer": "ipython3",
   "version": "3.12.4"
  }
 },
 "nbformat": 4,
 "nbformat_minor": 2
}
