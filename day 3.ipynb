{
 "cells": [
  {
   "cell_type": "code",
   "execution_count": 7,
   "metadata": {},
   "outputs": [
    {
     "name": "stdout",
     "output_type": "stream",
     "text": [
      "['10', '45', '56AM']\n",
      "10:45:56\n"
     ]
    }
   ],
   "source": [
    "list=list(map(str,input(\"enter the value\").split(\":\")))\n",
    "print(list)\n",
    "hour=int(list[0])\n",
    "min=list[1]\n",
    "ap=list[2]\n",
    "if(ap[2:]==\"AM\"):\n",
    "    if(hour==12):\n",
    "        hour=\"00\"\n",
    "else:\n",
    "    hour=hour+12\n",
    "print(hour,min,ap[:2],sep=\":\")\n",
    "    \n",
    "    \n",
    "    "
   ]
  },
  {
   "cell_type": "code",
   "execution_count": 2,
   "metadata": {},
   "outputs": [
    {
     "name": "stdout",
     "output_type": "stream",
     "text": [
      "7\n"
     ]
    }
   ],
   "source": [
    "nums=list(map(int,input().split(\" \")))\n",
    "#we are supposed to knfind the second largest element in the array\n",
    "largest=nums[0]\n",
    "secondlargest=nums[-1]\n",
    "for num in nums:\n",
    "    if(num>largest):\n",
    "        secondlargest=largest\n",
    "        largest=num\n",
    "    elif(largest==secondlargest):\n",
    "        secondlargest=num\n",
    "    elif num>secondlargest:\n",
    "        secondlargest= num\n",
    "    else:\n",
    "        continue\n",
    "print(secondlargest)\n",
    "\n",
    "\n"
   ]
  },
  {
   "cell_type": "code",
   "execution_count": 6,
   "metadata": {},
   "outputs": [
    {
     "name": "stdout",
     "output_type": "stream",
     "text": [
      "[1, 5, 4, 6]\n",
      "The second largest is 5\n"
     ]
    }
   ],
   "source": [
    "num_list= list(map(int,input(\"Enter the elements: \").split()))\n",
    "print(num_list)\n",
    "i=0\n",
    "largest=num_list[0]\n",
    "second_largest=num_list[0]\n",
    "\n",
    "if(len(num_list)==1):\n",
    "    print(f\"There is only one number!\")\n",
    "\n",
    "else:\n",
    "    while(i<len(num_list)):\n",
    "            \n",
    "        if(num_list[i] > largest):\n",
    "            second_largest = largest\n",
    "            largest = num_list[i]\n",
    "            \n",
    "        elif (largest == second_largest):\n",
    "            second_largest = num_list[i]\n",
    "\n",
    "        else:\n",
    "            #This block will get executed if my second largest is not equal to largest.\n",
    "            if (num_list[i] > second_largest):\n",
    "                second_largest = num_list[i]\n",
    "\n",
    "\n",
    "        \n",
    "        \n",
    "        i+=1\n",
    "\n",
    "    print(f\"The second largest is {second_largest}\")\n"
   ]
  },
  {
   "cell_type": "code",
   "execution_count": 4,
   "metadata": {},
   "outputs": [
    {
     "name": "stdout",
     "output_type": "stream",
     "text": [
      "25\n"
     ]
    }
   ],
   "source": [
    "#NESTED LOOP\n",
    "#nested loops are loops which contain loops inside their body\n",
    "\n",
    "#this can be for in a for ,,or a while whithin a while ,,, or a while within a for  ,, or viseversa\n",
    "count=0\n",
    "for i in range(5):\n",
    "    for j in range(5):\n",
    "        count+=1\n",
    "        \n",
    "print(count)"
   ]
  },
  {
   "cell_type": "code",
   "execution_count": 5,
   "metadata": {},
   "outputs": [
    {
     "name": "stdout",
     "output_type": "stream",
     "text": [
      "inside the inner loop\n",
      "inside the inner loop\n",
      "inside the outer loop\n",
      "inside the inner loop\n",
      "inside the inner loop\n",
      "inside the outer loop\n",
      "inside the inner loop\n",
      "inside the inner loop\n",
      "inside the outer loop\n",
      "inside the inner loop\n",
      "inside the inner loop\n",
      "inside the outer loop\n",
      "inside the inner loop\n",
      "inside the inner loop\n",
      "inside the outer loop\n"
     ]
    }
   ],
   "source": [
    "#the effect of jump statements in nested loops.the jump statement only effect the loop in which they are present .\n",
    "for i in range(5):\n",
    "    for j in range(5):\n",
    "        if j== 2:\n",
    "            break\n",
    "        print(\"inside the inner loop\")\n",
    "    print(\"inside the outer loop\")"
   ]
  },
  {
   "cell_type": "code",
   "execution_count": 9,
   "metadata": {},
   "outputs": [
    {
     "name": "stdout",
     "output_type": "stream",
     "text": [
      "\n",
      "a \n",
      "a b \n",
      "a b c \n",
      "a b c d \n",
      "a b c d e \n"
     ]
    }
   ],
   "source": [
    "num=input(\"Enter the input\")\n",
    "num=int(num)\n",
    "for i in range(num+1):\n",
    "    int1 = ord(\"a\")\n",
    "    for j in range(i):\n",
    "        print(chr(int1),end=\" \")\n",
    "        int1+=1\n",
    "    print()"
   ]
  },
  {
   "cell_type": "code",
   "execution_count": 11,
   "metadata": {},
   "outputs": [
    {
     "name": "stdout",
     "output_type": "stream",
     "text": [
      "\n",
      "a\n",
      "a b\n",
      "a b c\n",
      "a b c d\n",
      "a b c d e\n"
     ]
    }
   ],
   "source": [
    "num=input(\"Enter the input\")\n",
    "num=int(num)\n",
    "for i in range(num+1):\n",
    "    char_list=[]\n",
    "    int1 = ord(\"a\")\n",
    "    for j in range(i):\n",
    "\n",
    "        char_list.append(chr(int1))\n",
    "        int1+=1\n",
    "    print(\" \".join(char_list))"
   ]
  },
  {
   "cell_type": "code",
   "execution_count": null,
   "metadata": {},
   "outputs": [],
   "source": [
    "#join()\n",
    "# a.join(b)\n",
    "# a is a string variable\n",
    "# b is a variable like a list or a tuple which contains only string values\n",
    "# a.join(b) returns astring where each element of b is seperated by the value stored in a\n",
    "\n",
    "# \" \".join([\"1\",\"2\",\"3\"]) -> \"1 2 3\"\n",
    "# \"#\".join([\"1\",\"2\",\"3\"]) -> \"1#233\"\n",
    "\n"
   ]
  },
  {
   "cell_type": "code",
   "execution_count": 17,
   "metadata": {},
   "outputs": [
    {
     "name": "stdout",
     "output_type": "stream",
     "text": [
      "*****q\n"
     ]
    }
   ],
   "source": [
    "# you are supposed to take an input string from the user and replace all the vouvels with * and print the result\n",
    "\n",
    "str1=input(\"enter the string:\")\n",
    "length=len(str1)\n",
    "str2=\"\"\n",
    "str1.lower()\n",
    "for i in range(0,length):\n",
    "    if(str1[i]==\"a\" or str1[i]== \"e\" or str1[i]==\"i\"or str1[i]== \"o\" or str1[i]==\"u\"):\n",
    "        str2+=(\"*\")\n",
    "    else:\n",
    "        str2+=str1[i]\n",
    "print(str2)\n",
    "\n"
   ]
  },
  {
   "cell_type": "code",
   "execution_count": 34,
   "metadata": {},
   "outputs": [
    {
     "name": "stdout",
     "output_type": "stream",
     "text": [
      "*@#ou\n"
     ]
    }
   ],
   "source": [
    "# you are supposed to take an input string from the user and replace only the first three occurances the vouvels with * and print the result\n",
    "#first occurence gets replaced by *\n",
    "#second occurance by @ \n",
    "# the third by #\n",
    "#my input can also contain characters of mixed case\n",
    "#AblaAarjil \n",
    "#and all the other occurances should be preserved \n",
    "# the case should also be presereved # print the output string\n",
    "\n",
    "\n",
    "str1=input(\"enter the string:\")\n",
    "str3=str1\n",
    "length=len(str1)\n",
    "count=0\n",
    "str2=\"\"\n",
    "str1.lower()\n",
    "for i in range(0,length):\n",
    "    if(str1[i]==\"a\" or str1[i]== \"e\" or str1[i]==\"i\"or str1[i]== \"o\" or str1[i]==\"u\"):\n",
    "        count+=1\n",
    "        if(count==1):\n",
    "            str2+=(\"*\")\n",
    "        elif(count==2):\n",
    "            str2+=(\"@\")\n",
    "        elif(count==3):\n",
    "            str2+=(\"#\")\n",
    "            \n",
    "        else:\n",
    "            str2+=str[i]\n",
    "    else:\n",
    "        str2+=str1[i]\n",
    "print(str2)\n",
    "\n",
    "##############################################\n",
    "\n",
    "#store the same occurance of vovels in the original string into a list then take the count of that list and do the necessary \n",
    "\n",
    "\n",
    "\n",
    "\n"
   ]
  },
  {
   "cell_type": "code",
   "execution_count": null,
   "metadata": {},
   "outputs": [
    {
     "name": "stdout",
     "output_type": "stream",
     "text": [
      "*******bc\n"
     ]
    }
   ],
   "source": [
    "# you are supposed to take an input string from the user and replace only the first three occurances the vouvels with * and print the result\n",
    "#first occurence gets replaced by *\n",
    "#second occurance by @ \n",
    "# the third by #\n",
    "#my input can also contain characters of mixed case\n",
    "#AblaAarjil \n",
    "#and all the other occurances should be preserved \n",
    "# the case should also be presereved # print the output string\n",
    "\n",
    "\n",
    "str1=input(\"enter the string:\")\n",
    "str3=str1\n",
    "length=len(str1)\n",
    "count_a=count_e=count_i=count_o=count_u=0\n",
    "str2=\"\"\n",
    "str1.lower()\n",
    "for i in range(0,length):\n",
    "    check= str[i]\n",
    "    if(str1[i] in \"aeiou\"):\n",
    "        if(str1[i]==\"a\" ):\n",
    "            count+=1\n",
    "            if(count==1):\n",
    "                str2+=(\"*\")\n",
    "            elif(count==2):\n",
    "                str2+=(\"@\")\n",
    "            elif(count==3):\n",
    "                str2+=(\"#\")\n",
    "\n",
    "        elif(str1[i]==\"e\" ):\n",
    "            count+=1\n",
    "            if(count==1):\n",
    "                str2+=(\"*\")\n",
    "            elif(count==2):\n",
    "                str2+=(\"@\")\n",
    "            elif(count==3):\n",
    "                str2+=(\"#\")\n",
    "\n",
    "        elif(str1[i]==\"i\"):\n",
    "            count+=1\n",
    "            if(count==1):\n",
    "                str2+=(\"*\")\n",
    "            elif(count==2):\n",
    "                str2+=(\"@\")\n",
    "            elif(count==3):\n",
    "                str2+=(\"#\")\n",
    "\n",
    "    elif(str1[i]==\"o\"):\n",
    "        count+=1\n",
    "        if(count==1):\n",
    "            str2+=(\"*\")\n",
    "        elif(count==2):\n",
    "            str2+=(\"@\")\n",
    "        elif(count==3):\n",
    "            str2+=(\"#\")\n",
    "            \n",
    "    elif(str1[i]==\"u\" ):\n",
    "        count+=1\n",
    "        if(count==1):\n",
    "            str2+=(\"*\")\n",
    "        elif(count==2):\n",
    "            str2+=(\"@\")\n",
    "        elif(count==3):\n",
    "            str2+=(\"#\")       \n",
    "    else:\n",
    "            str2+=str1[i]\n",
    "# else:\n",
    "#         str2+=str1[i]\n",
    "print(str2)\n",
    "\n"
   ]
  },
  {
   "cell_type": "code",
   "execution_count": null,
   "metadata": {},
   "outputs": [
    {
     "name": "stdout",
     "output_type": "stream",
     "text": [
      "['*', '@', '#', '*', '@', '*']\n"
     ]
    }
   ],
   "source": [
    "# you are supposed to take an input string from the user and replace only the first three occurances the vouvels with * and print the result\n",
    "#first occurence gets replaced by *\n",
    "#second occurance by @ \n",
    "# the third by #\n",
    "#my input can also contain characters of mixed case\n",
    "#AblaAarjil \n",
    "#and all the other occurances should be preserved \n",
    "# the case should also be presereved # print the output string\n",
    "\n",
    "\n",
    "str1=input(\"enter the string:\")\n",
    "str3=str1\n",
    "length=len(str1)\n",
    "count=0\n",
    "str2=[]\n",
    "for i in range(0,length):\n",
    "    if(str1[i] in \"aeiouAEIOU\"):\n",
    "        check=str1[i]\n",
    "        flag=1#to check it is a vovel,if vovel go to loop to find the number of occurences\n",
    "        count=0\n",
    "        for j in range (i,length):\n",
    "            if(str1[j]==check):\n",
    "                count+=1\n",
    "                if(count==1):\n",
    "                    str2.append(\"*\")\n",
    "                elif(count==2):\n",
    "                    str2.append(\"@\")\n",
    "                elif(count==3):\n",
    "                    str2.append(\"#\")\n",
    "                else:\n",
    "                    str2[j]= check\n",
    "    else:\n",
    "        str2.append(str1[i])\n",
    "print(str2)\n",
    "\n"
   ]
  },
  {
   "cell_type": "code",
   "execution_count": 61,
   "metadata": {},
   "outputs": [
    {
     "name": "stdout",
     "output_type": "stream",
     "text": [
      "Output string: *bdc@***#\n"
     ]
    }
   ],
   "source": [
    "str1 = input(\"Enter the string: \")\n",
    "length = len(str1)\n",
    "str2 = []\n",
    "count_dict = {v: 0 for v in \"aeiouAEIOU\"}  # Dictionary to keep track of counts for each vowel\n",
    "\n",
    "for i in range(length):\n",
    "    if str1[i] in \"aeiouAEIOU\":\n",
    "        count_dict[str1[i]] += 1\n",
    "        if count_dict[str1[i]] == 1:\n",
    "            str2.append('*')\n",
    "        elif count_dict[str1[i]] == 2:\n",
    "            str2.append('@')\n",
    "        elif count_dict[str1[i]] == 3:\n",
    "            str2.append('#')\n",
    "        else:\n",
    "            str2.append(str1[i])\n",
    "    else:\n",
    "        str2.append(str1[i])\n",
    "\n",
    "result = ''.join(str2)\n",
    "print(\"Output string:\", result)\n"
   ]
  },
  {
   "cell_type": "code",
   "execution_count": 63,
   "metadata": {},
   "outputs": [
    {
     "name": "stdout",
     "output_type": "stream",
     "text": [
      "<class 'set'>\n",
      "{1, 2, 3, 4, 11, 45}\n"
     ]
    }
   ],
   "source": [
    "#SETS\n",
    "#sets are nothing but collection of elements where each unique element is stored only once\n",
    "# it does not allopw duplicate elements\n",
    "\n",
    "#[1,2,3,1,1,3]--- possible in sets\n",
    "#but in sets it will become--{1,2,3}\n",
    "\n",
    "sample={1,2,3,4,11,2,3,45,}#even if we enter duplicate entires in the set it will store only single entry\n",
    "print(type(sample))\n",
    "print(sample)\n"
   ]
  },
  {
   "cell_type": "code",
   "execution_count": 66,
   "metadata": {},
   "outputs": [
    {
     "name": "stdout",
     "output_type": "stream",
     "text": [
      "{1, 2, 3, 4, 10, 19, 22}\n"
     ]
    }
   ],
   "source": [
    "sample=set([1,2,3,19,10,22,2,3,4])#when using a set function to declare a set make shure the elements sre in a list or tuple\n",
    "print(sample)"
   ]
  },
  {
   "cell_type": "code",
   "execution_count": null,
   "metadata": {},
   "outputs": [],
   "source": [
    "#the input order is not preserved ,,,,the elemts are stored in some random order\n",
    "#but in list it does not delete the multiple entries or do not sort the entries\n",
    "\n",
    "#sets are un ordered data types because the input order is not preserved\n",
    "#sets are mutable data types ,so changes made to one variable will be reflected in the other variable\n"
   ]
  },
  {
   "cell_type": "code",
   "execution_count": 76,
   "metadata": {},
   "outputs": [
    {
     "name": "stdout",
     "output_type": "stream",
     "text": [
      "<class 'set'>\n",
      "<class 'set'>\n",
      "{1, 2, 3, 4, 20, 10} {1, 2, 3, 4, 20, 10}\n"
     ]
    }
   ],
   "source": [
    "sample1={1,2,3,4,4,1,2,10,20}\n",
    "sample2=sample1\n",
    "print(type(sample1))\n",
    "print(type(sample2))\n",
    "print(sample1,sample2)"
   ]
  },
  {
   "cell_type": "code",
   "execution_count": 71,
   "metadata": {},
   "outputs": [
    {
     "name": "stdout",
     "output_type": "stream",
     "text": [
      "{1, 2, 3, 4, 20, 21, 10} {1, 2, 3, 4, 20, 21, 10}\n"
     ]
    }
   ],
   "source": [
    "sample1.add(21)\n",
    "print(sample1,sample2)"
   ]
  },
  {
   "cell_type": "code",
   "execution_count": 73,
   "metadata": {},
   "outputs": [],
   "source": [
    "#discard () method\n",
    "sample1.discard(5)#even the element is not a part of the set the discard method does not throw an error"
   ]
  },
  {
   "cell_type": "code",
   "execution_count": null,
   "metadata": {},
   "outputs": [],
   "source": [
    "sample1.remove(5)#but if the element to be removed is not part of the set the remove function will give an error"
   ]
  },
  {
   "cell_type": "code",
   "execution_count": 87,
   "metadata": {},
   "outputs": [
    {
     "name": "stdout",
     "output_type": "stream",
     "text": [
      "{0, 1, 2, 3}\n",
      "{1, 2, 3, 4}\n",
      "{2, 3, 4, 5}\n"
     ]
    }
   ],
   "source": [
    "sample={0,1,2,3}\n",
    "print(sample)\n",
    "sample2=set([1,2,3,4])\n",
    "print(sample2)\n",
    "sample3={2,3,4,5}\n",
    "print(sample3)"
   ]
  },
  {
   "cell_type": "code",
   "execution_count": 84,
   "metadata": {},
   "outputs": [
    {
     "name": "stdout",
     "output_type": "stream",
     "text": [
      "{2, 3}\n"
     ]
    }
   ],
   "source": [
    "print(sample&sample2&sample3)#gives the intersection of the sets"
   ]
  },
  {
   "cell_type": "code",
   "execution_count": 85,
   "metadata": {},
   "outputs": [
    {
     "name": "stdout",
     "output_type": "stream",
     "text": [
      "{0, 1, 2, 3, 4}\n"
     ]
    }
   ],
   "source": [
    "print(sample|sample2)#   | gives the union of the given sets"
   ]
  },
  {
   "cell_type": "code",
   "execution_count": 89,
   "metadata": {},
   "outputs": [
    {
     "name": "stdout",
     "output_type": "stream",
     "text": [
      "{0}\n"
     ]
    }
   ],
   "source": [
    "print(sample-sample2)# to find the difference of the two sets"
   ]
  },
  {
   "cell_type": "code",
   "execution_count": 96,
   "metadata": {},
   "outputs": [
    {
     "name": "stdout",
     "output_type": "stream",
     "text": [
      "<class 'dict'>\n",
      "1\n",
      "2\n"
     ]
    }
   ],
   "source": [
    "#DICTIONARIES\n",
    "#they are another data type in python theya re used to store data in key value pair\n",
    "#dictionaries are ordered data type but there are not indexed there is no indxind in dictionaries\n",
    "\n",
    "sampledict={\"a\":1,\"b\":2,\"c\":3}\n",
    "print(type(sampledict))\n",
    "print(sampledict[\"a\"])\n",
    "print(sampledict[\"b\"])"
   ]
  },
  {
   "cell_type": "code",
   "execution_count": 100,
   "metadata": {},
   "outputs": [
    {
     "name": "stdout",
     "output_type": "stream",
     "text": [
      "<class 'set'>\n",
      "set()\n"
     ]
    }
   ],
   "source": [
    "sampledit2={}#thies is an empty dictionary and not an empty set\n",
    "#if we want to create an empty set do\n",
    "set1=set()\n",
    "print(type(set1))\n",
    "print(set1)"
   ]
  },
  {
   "cell_type": "code",
   "execution_count": 101,
   "metadata": {},
   "outputs": [
    {
     "name": "stdout",
     "output_type": "stream",
     "text": [
      "{'a': '1', 'b': 'b', 'c': 'c', 'd': 'd'}\n"
     ]
    }
   ],
   "source": [
    "#for keys u can only chooose an immutable datay type.but the value can also be a mutable data type\n",
    "\n",
    "sample={\"a\":\"1\",\"b\":\"b\",\"c\":\"c\",\"d\":\"d\"}\n",
    "print(sample)\n"
   ]
  },
  {
   "cell_type": "code",
   "execution_count": 103,
   "metadata": {},
   "outputs": [
    {
     "name": "stdout",
     "output_type": "stream",
     "text": [
      "{'a': '[1,2,3,]', 'b': 'b', 'c': '(a,s,d,f,)', 'd': 'd'}\n"
     ]
    }
   ],
   "source": [
    "#dictionaries are themselves mutable \n",
    "sample={\"a\":\"[1,2,3,]\",\"b\":\"b\",\"c\":\"(a,s,d,f,)\",\"d\":\"d\"}\n",
    "print(sample)"
   ]
  },
  {
   "cell_type": "code",
   "execution_count": 104,
   "metadata": {},
   "outputs": [
    {
     "name": "stdout",
     "output_type": "stream",
     "text": [
      "{'A': 1, 'a': 2}\n"
     ]
    }
   ],
   "source": [
    "sample_dict={\"A\":1,\"a\":2}\n",
    "print(sample_dict)"
   ]
  },
  {
   "cell_type": "code",
   "execution_count": 105,
   "metadata": {},
   "outputs": [
    {
     "name": "stdout",
     "output_type": "stream",
     "text": [
      "1\n",
      "2\n"
     ]
    }
   ],
   "source": [
    "print(sample_dict[\"A\"])#they  are case sensitive\n",
    "print(sample_dict[\"a\"])"
   ]
  },
  {
   "cell_type": "code",
   "execution_count": 106,
   "metadata": {},
   "outputs": [
    {
     "name": "stdout",
     "output_type": "stream",
     "text": [
      "{'A': 2}\n"
     ]
    }
   ],
   "source": [
    "#you can have only one key:value entry with the same key,because if we have multiple entries with the same keys,,,\n",
    "# only value of the last occurance will be storeed ,, all the earlier values will be lost\n",
    "sample_dict={\"A\":1,\"A\":2}\n",
    "print(sample_dict)"
   ]
  },
  {
   "cell_type": "code",
   "execution_count": 107,
   "metadata": {},
   "outputs": [
    {
     "name": "stdout",
     "output_type": "stream",
     "text": [
      "{'A': 2, 'key': 'value'}\n"
     ]
    }
   ],
   "source": [
    "#to add a new key or to update they value of the key use this syntax\n",
    "sample_dict[\"key\"]=\"value\"#if the key is not present in the dictionary it will add it to it otherwise it will just update the value \n",
    "print(sample_dict)"
   ]
  },
  {
   "cell_type": "code",
   "execution_count": 108,
   "metadata": {},
   "outputs": [
    {
     "name": "stdout",
     "output_type": "stream",
     "text": [
      "{'A': 'a', 'B': [4, 5, 6], 'C': [1, 2, 3]}\n"
     ]
    }
   ],
   "source": [
    "#we generally use loops to traverse through the dictionary.\n",
    "sample_dict={\"A\":\"a\",\"B\":[4,5,6],\"C\":[1,2,3]}\n",
    "print(sample_dict)"
   ]
  },
  {
   "cell_type": "code",
   "execution_count": 109,
   "metadata": {},
   "outputs": [
    {
     "name": "stdout",
     "output_type": "stream",
     "text": [
      "A\n",
      "B\n",
      "C\n"
     ]
    }
   ],
   "source": [
    "for i in sample_dict:\n",
    "    print(i)"
   ]
  },
  {
   "cell_type": "code",
   "execution_count": 110,
   "metadata": {},
   "outputs": [
    {
     "name": "stdout",
     "output_type": "stream",
     "text": [
      "dict_keys(['A', 'B', 'C'])\n"
     ]
    }
   ],
   "source": [
    "list_of_keys=sample_dict.keys()\n",
    "print(list_of_keys)"
   ]
  },
  {
   "cell_type": "code",
   "execution_count": 111,
   "metadata": {},
   "outputs": [
    {
     "name": "stdout",
     "output_type": "stream",
     "text": [
      "<class 'dict_keys'>\n"
     ]
    }
   ],
   "source": [
    "print(type(list_of_keys))"
   ]
  },
  {
   "cell_type": "code",
   "execution_count": 113,
   "metadata": {},
   "outputs": [
    {
     "name": "stdout",
     "output_type": "stream",
     "text": [
      "A\n",
      "B\n",
      "C\n"
     ]
    }
   ],
   "source": [
    "for i in sample_dict.keys():#to access the keys\n",
    "    print(i)"
   ]
  },
  {
   "cell_type": "code",
   "execution_count": 117,
   "metadata": {},
   "outputs": [
    {
     "name": "stdout",
     "output_type": "stream",
     "text": [
      "a\n",
      "[4, 5, 6]\n",
      "[1, 2, 3]\n"
     ]
    }
   ],
   "source": [
    "for i in sample_dict.values():#to access the values\n",
    "    print(i)"
   ]
  },
  {
   "cell_type": "code",
   "execution_count": 119,
   "metadata": {},
   "outputs": [
    {
     "name": "stdout",
     "output_type": "stream",
     "text": [
      "('A', 'a')\n",
      "('B', [4, 5, 6])\n",
      "('C', [1, 2, 3])\n"
     ]
    }
   ],
   "source": [
    "for i in sample_dict.items():#items give a tuple for each key value pair ,where the first value is the key and the \n",
    "                                #second value is the value associated with the key\n",
    "    print(i)"
   ]
  },
  {
   "cell_type": "code",
   "execution_count": 121,
   "metadata": {},
   "outputs": [
    {
     "data": {
      "text/plain": [
       "'a'"
      ]
     },
     "execution_count": 121,
     "metadata": {},
     "output_type": "execute_result"
    }
   ],
   "source": [
    "#sample_dict.clear()     #clears all the key:value pairs in the dictionary\n",
    "sample_dict.pop(\"A\")"
   ]
  },
  {
   "cell_type": "code",
   "execution_count": 124,
   "metadata": {},
   "outputs": [],
   "source": [
    "sample_dict={\"A\":\"a\",\"B\":[4,5,6],\"C\":[1,2,3]}"
   ]
  },
  {
   "cell_type": "code",
   "execution_count": 123,
   "metadata": {},
   "outputs": [
    {
     "data": {
      "text/plain": [
       "'the value is not present'"
      ]
     },
     "execution_count": 123,
     "metadata": {},
     "output_type": "execute_result"
    }
   ],
   "source": [
    "sample_dict.pop(\"D\",\"the value is not present\")#if the key is not present ,and we have a doubt we can give a note to be displayed \n",
    "                                                #it will show it instead of the error"
   ]
  },
  {
   "cell_type": "code",
   "execution_count": 125,
   "metadata": {},
   "outputs": [
    {
     "data": {
      "text/plain": [
       "'a'"
      ]
     },
     "execution_count": 125,
     "metadata": {},
     "output_type": "execute_result"
    }
   ],
   "source": [
    "sample_dict.get(\"A\")#get() is used to get the value of the key in the dictionary"
   ]
  },
  {
   "cell_type": "code",
   "execution_count": 126,
   "metadata": {},
   "outputs": [
    {
     "name": "stdout",
     "output_type": "stream",
     "text": [
      "None\n"
     ]
    }
   ],
   "source": [
    "print(sample_dict.get(\"key\"))\n"
   ]
  },
  {
   "cell_type": "code",
   "execution_count": 127,
   "metadata": {},
   "outputs": [
    {
     "name": "stdout",
     "output_type": "stream",
     "text": [
      "not pressnt\n"
     ]
    }
   ],
   "source": [
    "a=sample_dict.get(\"key\")\n",
    "if a:\n",
    "    print(\"present\")\n",
    "else:\n",
    "    print(\"not pressnt\")"
   ]
  },
  {
   "cell_type": "code",
   "execution_count": null,
   "metadata": {},
   "outputs": [],
   "source": [
    "#.get() refer on your own "
   ]
  },
  {
   "cell_type": "code",
   "execution_count": 135,
   "metadata": {},
   "outputs": [
    {
     "name": "stdout",
     "output_type": "stream",
     "text": [
      "please enter a valid month\n"
     ]
    }
   ],
   "source": [
    "#take a string input feom a user and print the following output\n",
    "\n",
    "#\"jan\": 31\n",
    "#\"feb\": 28 or 29\n",
    "#...\n",
    "#if any other string is mentioned : kindly enter a valid month\n",
    "value=input(\"enter the month:\")\n",
    "callender={\"january\":\"31\",\"february\":\"28 or 29\",\"march\":\"30\",\"april\":\"31\",\"may\":\"30\",\"june\":\"31\",\"july\":\"31\",\"august\":\"30\",\"september\":\"30\",\"october\":\"31\",\"november\":\"30\",\"december\":\"31\"}\n",
    "print(callender.get(value,\"please enter a valid month\"))"
   ]
  },
  {
   "cell_type": "code",
   "execution_count": 136,
   "metadata": {},
   "outputs": [
    {
     "name": "stdout",
     "output_type": "stream",
     "text": [
      "odd\n"
     ]
    }
   ],
   "source": [
    "#single line if else\n",
    "\n",
    "x=int(input(\"enter a number:\"))\n",
    "result=\"even\" if x%2 == 0 else \"odd\"\n",
    "print(result)"
   ]
  },
  {
   "cell_type": "code",
   "execution_count": 137,
   "metadata": {},
   "outputs": [
    {
     "name": "stdout",
     "output_type": "stream",
     "text": [
      "[0, 1, 4, 9, 16]\n"
     ]
    }
   ],
   "source": [
    "# i can reate a list of elements based on a certain logic using a for loop in a single line\n",
    "print([x**2 for x in range (5)])"
   ]
  },
  {
   "cell_type": "code",
   "execution_count": null,
   "metadata": {},
   "outputs": [],
   "source": [
    "#you will take a space seperatd list of integers as your input and out put the following\n",
    "#string according to your input\n",
    "#25 27 100 -85 -97 11\n",
    "#off odd even even even odd\n",
    "\n",
    "list=list(map(int,input(\"enter the value\").split(\" \")))\n",
    "print(\" \".join([\"even\" if x%2 == 0 else \"odd\" for x in list ]))#[] to create a list"
   ]
  },
  {
   "cell_type": "code",
   "execution_count": null,
   "metadata": {},
   "outputs": [],
   "source": [
    "#functions are a block of code which can be used any number of times to perform  certain calculation any number of times\n",
    "#functions promte code reusability\n",
    "\n",
    "#def function_name(x,y,z)\n",
    "    #function_body\n",
    "    #return(value(s)]"
   ]
  },
  {
   "cell_type": "code",
   "execution_count": null,
   "metadata": {},
   "outputs": [],
   "source": [
    "# in any language the scope refers to the region of the progam code which provides acess to the variable\n"
   ]
  },
  {
   "cell_type": "code",
   "execution_count": 168,
   "metadata": {},
   "outputs": [
    {
     "name": "stdout",
     "output_type": "stream",
     "text": [
      "   *\n",
      "  * *\n",
      " * * *\n",
      "* * * *\n",
      " * * *\n",
      "  * *\n",
      "   *\n"
     ]
    }
   ],
   "source": [
    "#HW -- single diamond problem (use only one loop)\n",
    "\n",
    "# You are supposed to take an integer input from the user and the print the following pattern according to the input.\n",
    "# SINGLE DIAMOND PROBLEM, SOLVE IT USING ONLY ONE LOOP, NO NESTED LOOPS\n",
    "\n",
    "\n",
    "# n = 3\n",
    "# Output : \n",
    "#   *\n",
    "#  * *\n",
    "# * * *\n",
    "#  * *\n",
    "#   *\n",
    "\n",
    "# n=2\n",
    "# *\n",
    "#* *\n",
    "# *\n",
    "\n",
    "# n=1\n",
    "#*\n",
    "\n",
    "# n=4\n",
    "#    *\n",
    "#   * *\n",
    "#  * * *\n",
    "# * * * *\n",
    "#  * * *\n",
    "#   * *\n",
    "#    *\n",
    "\n",
    "num=int(input(\"enter the number:\"))\n",
    "total_rows=num*2-1\n",
    "stars=1\n",
    "spaces=num-1\n",
    "for i in range (total_rows):\n",
    "    print(\" \"*spaces + \"* \"*(stars-1)+\"*\")\n",
    "    if i < num - 1:\n",
    "        stars += 1 \n",
    "        spaces -= 1 \n",
    "    else: \n",
    "        stars -= 1 \n",
    "        spaces += 1\n",
    "    \n",
    "\n",
    "\n",
    "\n"
   ]
  },
  {
   "cell_type": "code",
   "execution_count": 148,
   "metadata": {},
   "outputs": [
    {
     "name": "stdout",
     "output_type": "stream",
     "text": [
      "   *\n",
      "  * *\n",
      " *   *\n",
      "*     *\n",
      " *   *\n",
      "  * *\n",
      "   *\n"
     ]
    }
   ],
   "source": [
    "#hollow diamond problem-- solve with only one loop and no nested loop\n",
    "#    *\n",
    "#  *   *\n",
    "#*       *\n",
    "#  *   *\n",
    "#    *\n",
    "\n",
    "# You are supposed to take an integer input from the user and the print the following pattern according to the input.\n",
    "# HOLLOW DIAMOND PROBLEM, SOLVE IT USING ONLY ONE LOOP, NO NESTED LOOPS\n",
    "\n",
    "# n=3\n",
    "#   *\n",
    "#  * *\n",
    "# *   *\n",
    "#  * *\n",
    "#   *\n",
    "\n",
    "# n=4\n",
    "#    *\n",
    "#   * *\n",
    "#  *   *\n",
    "# *     *\n",
    "#  *   *\n",
    "#   * *\n",
    "#    *\n",
    "\n",
    "\n",
    "num=int(input(\"enter the number:\"))\n",
    "total_rows=num*2-1\n",
    "stars=1\n",
    "spaces=num-1\n",
    "hollow_space=-1\n",
    "for i in range (total_rows):\n",
    "    if stars==1:\n",
    "        print(\" \"*spaces + \"*\")\n",
    "    else:\n",
    "        print(\" \"*spaces + \"*\" +\" \" * hollow_space + '*')\n",
    "    if i < num - 1:\n",
    "        stars += 1 \n",
    "        spaces -= 1 \n",
    "        hollow_space += 2\n",
    "    else: \n",
    "        stars -= 1 \n",
    "        spaces += 1\n",
    "        hollow_space -= 2"
   ]
  },
  {
   "cell_type": "code",
   "execution_count": null,
   "metadata": {},
   "outputs": [
    {
     "name": "stdout",
     "output_type": "stream",
     "text": [
      "    * \n",
      "   * * \n",
      "  * * * \n",
      " * * * * \n",
      " ."
     ]
    }
   ],
   "source": [
    "\n",
    "#nihal\n",
    "\n",
    "\n",
    "num=int(input(\"ENTER THE NUMBER OF MAXIMUM STARS IN THE ROW : \"))\n",
    "for i in range(1,num+1):\n",
    "    val=(num-i)+1\n",
    "    for j in range(1,val+1):\n",
    "        print(\" \",end=\"\")\n",
    "    for k in range(1,i+1):\n",
    "        print(\"*\",end=\" \")\n",
    "    print()\n",
    "for i in range(num-1,2,-1):\n",
    "    for j in range(i,num):\n",
    "        print(\" \",end=\".\")"
   ]
  },
  {
   "cell_type": "code",
   "execution_count": 151,
   "metadata": {},
   "outputs": [
    {
     "name": "stdout",
     "output_type": "stream",
     "text": [
      "ftugyidftugyi\n",
      "ftugyi dftugyi\n"
     ]
    }
   ],
   "source": [
    "string1=\"ftugyi\"\n",
    "string2=\"dftugyi\"\n",
    "print(string1+string2)\n",
    "print(string1,string2)"
   ]
  },
  {
   "cell_type": "code",
   "execution_count": 174,
   "metadata": {},
   "outputs": [
    {
     "name": "stdout",
     "output_type": "stream",
     "text": [
      "   *\n",
      "  * *\n",
      " * * *\n",
      "* * * *\n",
      " * * *\n",
      "  * *\n",
      "   *\n"
     ]
    }
   ],
   "source": [
    "# n=4\n",
    "#    *\n",
    "#   * *\n",
    "#  * * *\n",
    "# * * * *\n",
    "#  * * *\n",
    "#   * *\n",
    "#    *\n",
    "\n",
    "\n",
    "num=int(input(\"enter the number:\"))\n",
    "total_rows=num*2-1\n",
    "stars=1\n",
    "spaces=num-1\n",
    "for i in range (total_rows):\n",
    "    print(\" \"*spaces + \"* \"*(stars-1)+\"*\")\n",
    "    if i < num - 1:\n",
    "        stars += 1 \n",
    "        spaces -= 1 \n",
    "    else: \n",
    "        stars -= 1 \n",
    "        spaces += 1"
   ]
  },
  {
   "cell_type": "code",
   "execution_count": 172,
   "metadata": {},
   "outputs": [
    {
     "name": "stdout",
     "output_type": "stream",
     "text": [
      "    *\n",
      "   * *\n",
      "  * * *\n",
      " * * * *\n",
      "* * * * *\n"
     ]
    }
   ],
   "source": [
    "num=int(input(\"enter the number:\"))\n",
    "total_rows=num*2-1\n",
    "stars=1\n",
    "spaces=num-2\n",
    "for i in range (total_rows):\n",
    "    if i<num-1:\n",
    "        print(\" \"*spaces + \" *\"*stars)\n",
    "    else:\n",
    "        print(\"*\"+\" *\"*(stars-1))\n",
    "    if i < num - 1:\n",
    "        stars += 1 \n",
    "        spaces -= 1 \n",
    "    else: \n",
    "        break"
   ]
  },
  {
   "cell_type": "code",
   "execution_count": 179,
   "metadata": {},
   "outputs": [
    {
     "name": "stdout",
     "output_type": "stream",
     "text": [
      "5\n"
     ]
    }
   ],
   "source": [
    "#function\n",
    "def name_of_function(a=5,b=4):\n",
    "    return (a+b)\n",
    "print(name_of_function(3,2))\n",
    "\n",
    "\n",
    "#here the constraint with default arguments is that the  arguments present to the rigth of your default argument must be adefault argument\n",
    "\n",
    "\n",
    "#def name2(a=5,b5):   this is not possible\n",
    "\n",
    "def name(a,b=5):#a is apositional argument and b is a default argument\n",
    "    return a+b\n",
    "\n",
    "def name2(a,c,b=5):#a and c are posiitonal argument and b is a default  argument\n",
    "    return a+b+c"
   ]
  },
  {
   "cell_type": "code",
   "execution_count": null,
   "metadata": {},
   "outputs": [],
   "source": [
    "name(4)#a=4,b=5\n",
    "name(3,4)#a=3,b=4\n",
    "name2(4)#invalid syntax because there are 2 positional and we are calling oly with 1 argument, so it will show error\n",
    " "
   ]
  },
  {
   "cell_type": "code",
   "execution_count": 182,
   "metadata": {},
   "outputs": [
    {
     "name": "stdout",
     "output_type": "stream",
     "text": [
      "(1, 2, 3, 4, 5, 5)\n",
      "<class 'tuple'>\n",
      "20\n"
     ]
    }
   ],
   "source": [
    "#  *args, *kwargs\n",
    "\n",
    "#args  --- stands for arguments \n",
    "# kwargs   --- stands for key-word arguments\n",
    "\n",
    "def sum_of_n_terms(*args):\n",
    "    print(args)\n",
    "    print(type(args))\n",
    "    print(sum(args))\n",
    "\n",
    "sum_of_n_terms(1,2,3,4,5,5,)"
   ]
  },
  {
   "cell_type": "code",
   "execution_count": 190,
   "metadata": {},
   "outputs": [
    {
     "name": "stdout",
     "output_type": "stream",
     "text": [
      "name:python\n",
      "length_of_name:6\n",
      "analogies:['c', 'c++', 'java']\n",
      "{'name': 'python', 'length_of_name': 6, 'analogies': ['c', 'c++', 'java']}\n",
      "<class 'dict'>\n"
     ]
    }
   ],
   "source": [
    "# kwargs ---- key-word argumenst\n",
    "\n",
    "def sum(**kwargs):\n",
    "    for key,value in kwargs.items():\n",
    "        print(f\"{key}:{value}\")\n",
    "    print(kwargs)\n",
    "    print(type(kwargs))\n",
    "\n",
    "sum(name=\"python\",length_of_name=6,analogies=[\"c\",\"c++\",\"java\"])\n"
   ]
  },
  {
   "cell_type": "code",
   "execution_count": 193,
   "metadata": {},
   "outputs": [],
   "source": [
    "def generic(a,b,*args):\n",
    "    print(a,b,args)"
   ]
  },
  {
   "cell_type": "code",
   "execution_count": 195,
   "metadata": {},
   "outputs": [
    {
     "name": "stdout",
     "output_type": "stream",
     "text": [
      "4 3 ()\n"
     ]
    }
   ],
   "source": [
    "generic(4,3)"
   ]
  },
  {
   "cell_type": "code",
   "execution_count": 196,
   "metadata": {},
   "outputs": [],
   "source": [
    "def generic_functions(a,b,**kwargs):\n",
    "    print(a,b,kwargs)"
   ]
  },
  {
   "cell_type": "code",
   "execution_count": 198,
   "metadata": {},
   "outputs": [
    {
     "name": "stdout",
     "output_type": "stream",
     "text": [
      "4 5 {'country': 'maldives', 'sport': ['cricket', 'football']}\n"
     ]
    }
   ],
   "source": [
    "generic_functions(4,5,country=\"maldives\",sport=[\"cricket\",\"football\"])"
   ]
  },
  {
   "cell_type": "code",
   "execution_count": 199,
   "metadata": {},
   "outputs": [],
   "source": [
    "def generic_functions(a,b,*args,**kwargs):\n",
    "    print(a,b,args,kwargs)"
   ]
  },
  {
   "cell_type": "code",
   "execution_count": 200,
   "metadata": {},
   "outputs": [
    {
     "name": "stdout",
     "output_type": "stream",
     "text": [
      "4 5 (5, 4, 3, 3, 3, 3, 5) {'country': 'maldives', 'sport': ['cricket', 'football']}\n"
     ]
    }
   ],
   "source": [
    "generic_functions(4,5,5,4,3,3,3,3,5,country=\"maldives\",sport=[\"cricket\",\"football\"])"
   ]
  },
  {
   "cell_type": "code",
   "execution_count": null,
   "metadata": {},
   "outputs": [],
   "source": [
    "#take a list of space seperated names from the user and assign a serial number sequentialy to each user and \n",
    "# print the final list of user with the serial numbers\n",
    "\n",
    "#sample input \n",
    "\n",
    "#Peter miles Ben Flash Amedius 2 3\n",
    "\n",
    "# Output\n",
    "#2 peter\n",
    "#5 miles\n",
    "#8 ben\n",
    "#11 flash\n",
    "#14 amedius\n",
    "\n",
    "#Average of 2,5,8,11 and 14 is 8.\n",
    "\n",
    "def function(start,step,*args):\n",
    "    length=len(args)\n",
    "    sum=0\n",
    "    count=0\n",
    "    for i in  args:#range(start,(length*3),step):\n",
    "        print(start,i)\n",
    "        start+=step\n",
    "        sum+=start\n",
    "        count+=1\n",
    "\n",
    "\n",
    "function(4,5,\"bhjbje\",\"efnr\",\"fnirfn\",\"uifihf\",\"uofni\",\"uqeefib\")\n",
    "avg=sum//count\n",
    "print(avg)\n",
    "\n",
    "\n"
   ]
  },
  {
   "cell_type": "code",
   "execution_count": 213,
   "metadata": {},
   "outputs": [
    {
     "data": {
      "text/plain": [
       "[25, 5, 4, 3, 2, 2, 1]"
      ]
     },
     "execution_count": 213,
     "metadata": {},
     "output_type": "execute_result"
    }
   ],
   "source": [
    "#sorted() function in python\n",
    " # sorted(iterable,key=none,reverse=False) is an inbuilt used to sort itereables on the value of the key parameter provided\n",
    "\n",
    "my_list=[1,2,3,4,5,2,25]\n",
    "sorted(my_list,reverse=True)"
   ]
  },
  {
   "cell_type": "code",
   "execution_count": 214,
   "metadata": {},
   "outputs": [
    {
     "data": {
      "text/plain": [
       "[1, 2, 2, 3, 4, 5, 25]"
      ]
     },
     "execution_count": 214,
     "metadata": {},
     "output_type": "execute_result"
    }
   ],
   "source": [
    "my_list=[1,2,3,4,5,2,25]\n",
    "sorted(my_list)\n"
   ]
  },
  {
   "cell_type": "code",
   "execution_count": null,
   "metadata": {},
   "outputs": [],
   "source": [
    "my_list=[\"s\",\"d\",\"e\",\"f\",\"g\"]\n",
    "sorted(my_list)\n",
    "print(my_list)"
   ]
  },
  {
   "cell_type": "code",
   "execution_count": 217,
   "metadata": {},
   "outputs": [
    {
     "name": "stdout",
     "output_type": "stream",
     "text": [
      "5\n",
      "['Leopard', 'Polar Bear', 'Lion', 'Tiger', 'Panther']\n"
     ]
    }
   ],
   "source": [
    "my_list = [\"Leopard\",\"Polar Bear\",\"Lion\", \"Tiger\",\"Panther\"]\n",
    "X = sorted(my_list,key=len)\n",
    "print(x)\n",
    "print(my_list)"
   ]
  },
  {
   "cell_type": "code",
   "execution_count": 218,
   "metadata": {},
   "outputs": [
    {
     "name": "stdout",
     "output_type": "stream",
     "text": [
      "['Polar Bear', 'Leopard', 'Panther', 'Tiger', 'Lion']\n"
     ]
    }
   ],
   "source": [
    "x= sorted(my_list,key=len,reverse=True)\n",
    "print(x)"
   ]
  },
  {
   "cell_type": "code",
   "execution_count": 219,
   "metadata": {},
   "outputs": [
    {
     "name": "stdout",
     "output_type": "stream",
     "text": [
      "['Leopard', 'Lion', 'Panther', 'Polar Bear', 'Tiger']\n"
     ]
    }
   ],
   "source": [
    "x= sorted(my_list,reverse=False)\n",
    "print(x)"
   ]
  },
  {
   "cell_type": "code",
   "execution_count": null,
   "metadata": {},
   "outputs": [],
   "source": [
    "print(ord(\"a\"))\n",
    "print(ord(\"A\"))"
   ]
  },
  {
   "cell_type": "code",
   "execution_count": 222,
   "metadata": {},
   "outputs": [
    {
     "name": "stdout",
     "output_type": "stream",
     "text": [
      "['c', 'a', 'B', 'A']\n"
     ]
    }
   ],
   "source": [
    "my_list = [\"a\", \"B\", \"A\", \"c\"]\n",
    "print(sorted(my_list,reverse=True ))"
   ]
  },
  {
   "cell_type": "code",
   "execution_count": 223,
   "metadata": {},
   "outputs": [
    {
     "name": "stdout",
     "output_type": "stream",
     "text": [
      "[5, 4, 10, 6, 3, 9, 7, 2, 8]\n"
     ]
    }
   ],
   "source": [
    "import math \n",
    "my_list=[2,3,4,5,6,7,8,9,10]\n",
    "print(sorted(my_list,key=math.sin))"
   ]
  },
  {
   "cell_type": "code",
   "execution_count": null,
   "metadata": {},
   "outputs": [],
   "source": [
    "import math \n",
    "my_list=[2,3,4,5,6,7,8,9,10]\n",
    "print(sorted(my_list,key=math.sin))\"Leopard\",\"Polar Bear\",\"Lion\", \"Tiger\",\"Panther\""
   ]
  },
  {
   "cell_type": "code",
   "execution_count": null,
   "metadata": {},
   "outputs": [],
   "source": []
  }
 ],
 "metadata": {
  "kernelspec": {
   "display_name": "Python 3",
   "language": "python",
   "name": "python3"
  },
  "language_info": {
   "codemirror_mode": {
    "name": "ipython",
    "version": 3
   },
   "file_extension": ".py",
   "mimetype": "text/x-python",
   "name": "python",
   "nbconvert_exporter": "python",
   "pygments_lexer": "ipython3",
   "version": "3.12.4"
  }
 },
 "nbformat": 4,
 "nbformat_minor": 2
}
