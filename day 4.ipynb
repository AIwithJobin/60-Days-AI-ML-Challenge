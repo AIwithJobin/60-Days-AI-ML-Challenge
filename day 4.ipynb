{
 "cells": [
  {
   "cell_type": "code",
   "execution_count": null,
   "metadata": {},
   "outputs": [
    {
     "name": "stdout",
     "output_type": "stream",
     "text": [
      "prime numbers from 1 are \n",
      "2\n",
      "3\n",
      "5\n",
      "7\n",
      "till 10\n"
     ]
    }
   ],
   "source": [
    "num1=int(input(\"Enter the first number\"))\n",
    "num2=int(input(\"enter the second number\"))\n",
    "if(num2<=num1):\n",
    "    print(\"enter valid numbers please\")\n",
    "else:\n",
    "    print(f\"prime numbers from {num1} are \")\n",
    "    for i in range(num1+1,num2): #3\n",
    "            j=2   # 9\n",
    "            # y=1\n",
    "            flag=0\n",
    "            while(j<=(i//2)):\n",
    "                if(i%j==0):\n",
    "                    flag =1\n",
    "                    # break\n",
    "                j+=1\n",
    "            if(flag !=1):\n",
    "                print(i)\n",
    "            else:\n",
    "                continue\n",
    "    print(f\"till {num2}\")\n",
    "\n",
    "\n"
   ]
  },
  {
   "cell_type": "code",
   "execution_count": null,
   "metadata": {},
   "outputs": [],
   "source": []
  },
  {
   "cell_type": "code",
   "execution_count": null,
   "metadata": {},
   "outputs": [],
   "source": []
  },
  {
   "cell_type": "code",
   "execution_count": 15,
   "metadata": {},
   "outputs": [
    {
     "name": "stdout",
     "output_type": "stream",
     "text": [
      "25\n"
     ]
    }
   ],
   "source": [
    "#lamda functions\n",
    "#lamda functions are small ,compact functions whicha re ideal for one- time use and throwaway .\n",
    "# it is ideal for senarios where functions are passed as an argument.it can take multiple arguments but can only return  a single expression\n",
    "\n",
    "\n",
    "square=lambda x,y : x**2+y**2 \n",
    "print(square(3,4))"
   ]
  },
  {
   "cell_type": "code",
   "execution_count": 19,
   "metadata": {},
   "outputs": [
    {
     "name": "stdout",
     "output_type": "stream",
     "text": [
      "[(-11, 5), (12, -25), (20, 1), (30, -2), (76, 100)]\n"
     ]
    }
   ],
   "source": [
    "list_of_tuples=[(20,1),(30,-2),(-11,5),(76,100),(12,-25)]\n",
    "print(sorted(list_of_tuples,key=lambda x:x[0])) \n",
    "#by default ,the result is sorted in ascending orders"
   ]
  },
  {
   "cell_type": "code",
   "execution_count": 23,
   "metadata": {},
   "outputs": [
    {
     "name": "stdout",
     "output_type": "stream",
     "text": [
      "[(12, -25), (30, -2), (20, 1), (-11, 5), (76, 100)]\n"
     ]
    }
   ],
   "source": [
    "list_of_tuples=[(20,1),(30,-2),(-11,5),(76,100),(12,-25)]\n",
    "print(sorted(list_of_tuples,key=lambda y:y[1])) #here y is just a random variable it can vary\n",
    "                                    #here y:y[1]the 1 in side the [] is the index of the element in the inner tuple according to which we want to sort\n",
    "#by default ,the result is sorted in ascending orders"
   ]
  },
  {
   "cell_type": "code",
   "execution_count": 22,
   "metadata": {},
   "outputs": [
    {
     "name": "stdout",
     "output_type": "stream",
     "text": [
      "[('miles', 70), ('ben', 77), ('flash', 85), ('peter', 95)]\n"
     ]
    }
   ],
   "source": [
    "listoftuple=((\"peter\",95),(\"miles\",70),(\"flash\",85),(\"ben\",77))\n",
    "print(sorted(listoftuple,key=lambda x:x[1])) "
   ]
  },
  {
   "cell_type": "code",
   "execution_count": null,
   "metadata": {},
   "outputs": [],
   "source": [
    "my_list = [\"a\", \"B\", \"A\", \"c\"]\n"
   ]
  },
  {
   "cell_type": "code",
   "execution_count": 33,
   "metadata": {},
   "outputs": [
    {
     "name": "stdout",
     "output_type": "stream",
     "text": [
      "{'January': 1, 'Feb': 2, 'Mar': 3, 'Apr': 4}\n"
     ]
    }
   ],
   "source": [
    "sample_dict = {\"January\":1,\"Feb\":2,\"Mar\":3,\"Apr\":4}\n",
    "\n",
    "#sort the above dictionary based on the kerys present in the dictionary.\n",
    "#sort the above dictionary based on the values present in the dictionary\n",
    "\n",
    "# dictionary = lambda x: sample_dict.get(keys)\n",
    "# def dictionary:\n",
    "# for i in dict.items():\n",
    "#     print(i)\n",
    "print(dict(sample_dict.items()))\n",
    "\n",
    "# print(sorted(sample_dict,key=dict.items() )) \n",
    "\n"
   ]
  },
  {
   "cell_type": "code",
   "execution_count": 35,
   "metadata": {},
   "outputs": [
    {
     "name": "stdout",
     "output_type": "stream",
     "text": [
      "{'Apr': 4, 'Feb': 2, 'January': 1, 'Mar': 3}\n"
     ]
    }
   ],
   "source": [
    "print(dict(sorted(sample_dict.items(),key=lambda x:x[0])))"
   ]
  },
  {
   "cell_type": "code",
   "execution_count": 36,
   "metadata": {},
   "outputs": [
    {
     "name": "stdout",
     "output_type": "stream",
     "text": [
      "{'January': 1, 'Feb': 2, 'Mar': 3, 'Apr': 4}\n"
     ]
    }
   ],
   "source": [
    "print(dict(sorted(sample_dict.items(),key=lambda x:x[1])))"
   ]
  },
  {
   "cell_type": "code",
   "execution_count": null,
   "metadata": {},
   "outputs": [],
   "source": [
    "list_of_tuples = [(2,3,4),(1,2,3),(4,5,7),(10,11,12),(13,14,21)]\n",
    "\n",
    "print(sorted( list_of_tuples, key=lambda x: x[2]-(x[1]+x[0]), reverse=True))"
   ]
  },
  {
   "cell_type": "code",
   "execution_count": 37,
   "metadata": {},
   "outputs": [
    {
     "name": "stdout",
     "output_type": "stream",
     "text": [
      "[(13, 14, 21), (10, 11, 12), (4, 5, 7), (2, 3, 4), (1, 2, 3)]\n"
     ]
    }
   ],
   "source": [
    "list_of_tuples= [(2,3,4),(1,2,3),(4,5,7),(10,11,12),(13,14,21)]\n",
    "print(sorted(list_of_tuples, key=lambda x:max(x), reverse=True ))"
   ]
  },
  {
   "cell_type": "code",
   "execution_count": 39,
   "metadata": {},
   "outputs": [
    {
     "name": "stdout",
     "output_type": "stream",
     "text": [
      "2 3 4 5\n"
     ]
    }
   ],
   "source": [
    "#unpacking of a tuple \n",
    "\n",
    "sample=[2,3,4,5]\n",
    "print(*sample) # ->print(2,3,4,5)\n",
    "# *sample -> \"2 3 4 5\" it is not the case it is printed as simple integers\n",
    "\n"
   ]
  },
  {
   "cell_type": "code",
   "execution_count": 41,
   "metadata": {},
   "outputs": [
    {
     "name": "stdout",
     "output_type": "stream",
     "text": [
      "('January', 1) ('Feb', 2) ('Mar', 3) ('Apr', 4)\n"
     ]
    }
   ],
   "source": [
    "print(*sample_dict.items())"
   ]
  },
  {
   "cell_type": "code",
   "execution_count": 44,
   "metadata": {},
   "outputs": [
    {
     "name": "stdout",
     "output_type": "stream",
     "text": [
      "[(13, 14, 21), (1, 11, 12), (2, 5, 7), (2, 3, 4), (4, 2, 3), (2, 3, 1, 2), (0, 0, 1, 2, 3), (1, 2)]\n"
     ]
    }
   ],
   "source": [
    "def return_squared_sum(*args):\n",
    "    return sum([x ** 2 for x in args])\n",
    "list_of_tuples=[(2,3,4),(4,2,3),(2,5,7),(1,11,12),(13,14,21),(1,2),(2,3,1,2),(0,0,1,2,3)]\n",
    "print(sorted(list_of_tuples,key=lambda x:return_squared_sum(*x),reverse=True))\n",
    "\n",
    "\n",
    "#return_squared_sum(*(2,3,4))->return_squared_sum(2,3,4)\n",
    "#return_squared_sum(*(1,2))->return_squared_sum(1,2)\n",
    "#return_squared_sum(*(2,3,1,2))->return_squared_sum(2,3,1,2)\n",
    "#return_squared_sum(*(0,0,1,2,3))->return_squared_sum(0,0,1,2,3)\n"
   ]
  },
  {
   "cell_type": "code",
   "execution_count": null,
   "metadata": {},
   "outputs": [
    {
     "name": "stdout",
     "output_type": "stream",
     "text": [
      "['1 2 3 4 5 6 7 8 9', '1 2 3 4 5 6 7 8 9']\n",
      "[1, 2, 3, 4, 5, 6, 7, 8, 9] [1, 2, 3, 4, 5, 6, 7, 8, 9]\n",
      "[2, 4, 6, 8, 10, 12, 14, 16, 18]\n"
     ]
    }
   ],
   "source": [
    "#1 2 3 4 5 6 7 8 9 , -1 0 2 3 4 5 6 7 8\n",
    "\n",
    "n=list(map(str,input(\"Enter the first matrix :\").split(\",\")))\n",
    "print(n)\n",
    "sum=[]\n",
    "list1=list(map(int,n[0].split(\" \")))\n",
    "list2=list(map(int,n[1].split(\" \")))\n",
    "print(list1,list2)\n",
    "\n",
    "\n",
    "\n",
    "result = [list1[i] + list2[i] for i in range(len(list1))]\n",
    "print(result)\n",
    "\n",
    "# for i in range(length):\n",
    "#     sum[i]=list1[i]+list2[i]\n",
    "# print(sum)\n",
    "\n",
    "\n",
    "# n2=list(map(int,input(\"Enter the second matrix :\").split(\" \")))\n",
    "# print(n1)\n",
    "# length1=len(n1)\n",
    "# length2=len(n2)\n",
    "# for i in (length1):\n",
    "#     n1l1=n2[]\n",
    "#     n1l2=\n",
    "#     n1l3=\n",
    "# length=len(n1)\n",
    "# if(n1!=n2):\n",
    "#     print(\"Enter  a proper matrix\")\n",
    "# else:\n",
    "#     for i in range(n1):\n",
    "#         def return_sum(n1,n2):\n",
    "#         return sum(n1,n2)\n",
    "\n",
    "\n",
    "\n"
   ]
  },
  {
   "cell_type": "code",
   "execution_count": 80,
   "metadata": {},
   "outputs": [
    {
     "name": "stdout",
     "output_type": "stream",
     "text": [
      "['1 2 -1 3 2 0 -4 0 2', '3 4 2 0 1 0 -2 0 1']\n",
      "[1, 2, -1, 3, 2, 0, -4, 0, 2] [3, 4, 2, 0, 1, 0, -2, 0, 1]\n",
      "[[1, 2, -1], [3, 2, 0], [-4, 0, 2]] [[3, 4, 2], [0, 1, 0], [-2, 0, 1]]\n",
      "[5, 6, 1, 9, 14, 6, -16, -16, -6]\n",
      "the final multiplied matrix is [[5, 6, 1], [9, 14, 6], [-16, -16, -6]]\n"
     ]
    }
   ],
   "source": [
    "n=list(map(str,input(\"Enter the first matrix :\").split(\",\")))\n",
    "print(n)\n",
    "list1=list(map(int,n[0].split(\" \")))\n",
    "list2=list(map(int,n[1].split(\" \")))\n",
    "print(list1,list2)\n",
    "\n",
    "\n",
    "matrix1 = [list1[i:i + 3] for i in range(0, len(list1), 3)]\n",
    "matrix2 = [list2[j:j + 3] for j in range(0, len(list2), 3)]\n",
    "print(matrix1,matrix2)\n",
    "\n",
    "final_matrix=[]\n",
    "\n",
    "for i in range(3):\n",
    "    for j in range(3):\n",
    "        temp=0\n",
    "        for k in range(3):\n",
    "            temp += matrix1[i][k] * matrix2[k][j]\n",
    "        final_matrix.append(temp)\n",
    "print(final_matrix)\n",
    "\n",
    "mul_matrix=[final_matrix[p:p+3]for p in range(0,len(final_matrix),3)]\n",
    "print(f\"the final multiplied matrix is {mul_matrix}\")\n",
    "\n",
    "\n",
    "# 1 2 -1 3 2 0 -4 0 2,3 4 2 0 1 0 -2 0 1\n"
   ]
  },
  {
   "cell_type": "code",
   "execution_count": 81,
   "metadata": {},
   "outputs": [
    {
     "name": "stdout",
     "output_type": "stream",
     "text": [
      "[[1, 2, 3, 4, 5]]\n",
      "[[6, 7, 8, 9, 1]]\n"
     ]
    }
   ],
   "source": [
    "matrix_elements = list(map(str, input().split(',')))\n",
    "matrix1 = list(map(int, matrix_elements[0].split(\" \")))\n",
    "matrix2 = list(map(int,matrix_elements[1].split(\" \")))\n",
    "matrix1_formatted, matrix2_formatted, indi_row = [], [], []\n",
    "count = 0\n",
    "for i in matrix1:\n",
    "    if count == 4:\n",
    "        indi_row.append(i)\n",
    "        matrix1_formatted.append(indi_row)\n",
    "        indi_row=[]\n",
    "        count = 0\n",
    "    else:\n",
    "        indi_row.append(i)\n",
    "        count += 1\n",
    "for i in matrix2:\n",
    "    if count == 4:\n",
    "        indi_row.append(i)\n",
    "        matrix2_formatted.append(indi_row)\n",
    "        indi_row=[]\n",
    "        count = 0\n",
    "else:\n",
    "    indi_row.append(i)\n",
    "    count += 1\n",
    "print(matrix1_formatted,matrix2_formatted,sep=\"\\n\")"
   ]
  },
  {
   "cell_type": "code",
   "execution_count": null,
   "metadata": {},
   "outputs": [],
   "source": [
    "#Now matrix1_formatted and matrix2 Dstore both of my matrices.\n",
    "for row_index in range(len(matrix1_formatted)):\n",
    "#This loop is used to access the elementsalong my rows.\n",
    "    for col_index in range(len(matrix2_formatted[0])):\n",
    "#This loop is used to access the elementsalong my columns.\n",
    "        pdt_sum = 0\n",
    "        for num in range(len(matrix2_formatted) ):\n",
    "            pdt_sum += matrix1_formatted[row_index][num]*matrix2_formatted[num][col_index]\n",
    "        indi_row.append(pdt_sum)\n",
    "    pdt_matrix.append(indi_row)\n",
    "    indi_row = []\n",
    "print(pdt_matrix)\n",
    "\n"
   ]
  },
  {
   "cell_type": "code",
   "execution_count": null,
   "metadata": {},
   "outputs": [],
   "source": []
  }
 ],
 "metadata": {
  "kernelspec": {
   "display_name": "Python 3",
   "language": "python",
   "name": "python3"
  },
  "language_info": {
   "codemirror_mode": {
    "name": "ipython",
    "version": 3
   },
   "file_extension": ".py",
   "mimetype": "text/x-python",
   "name": "python",
   "nbconvert_exporter": "python",
   "pygments_lexer": "ipython3",
   "version": "3.12.4"
  }
 },
 "nbformat": 4,
 "nbformat_minor": 2
}
